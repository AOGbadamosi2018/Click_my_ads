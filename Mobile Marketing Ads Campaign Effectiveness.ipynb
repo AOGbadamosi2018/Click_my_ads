{
 "cells": [
  {
   "cell_type": "markdown",
   "metadata": {},
   "source": [
    "##                                                                     Summary\n",
    "### Objective\n",
    "* #### This projects proposes a supervised predicition algorithm of installatino and clicking probabilities based on data from Terragon's database.\n",
    "### Results\n",
    "* #### The best performing model of the 6 trained was LGBMClassifier with f1_score = 0.76 on the validation set.\n",
    "### Limitations\n",
    "* #### Not enough domain knowledge about the telecoms industry pricing to adequately remove outliers from other numeric fields apart from \"age\" field.\n",
    "* #### Working with 100%(65000) of the train dataset yielded mauvaise performance for the Boosting algorithms used thus about 19,000 unique and fairly engineered points were used.\n",
    "* #### gpu limitations with training model, 500 iterations took about 4 hours with CPU;(device parameters for LGBM GPU-support don't speed up training times).\n",
    "### Further work would involve:\n",
    "* #### using \"spent_actual\" i.e summation of all the telecoms' service categories as a feature in addition to other polynomial features.\n",
    "* #### obtaining more unique samples from the train dataset and combining performance improvements from each unique training in a \"pipeline\".\n",
    "* #### exploring the performance of \"Anomaly Detection Classifiers\" on 100% of the train dataset."
   ]
  },
  {
   "cell_type": "markdown",
   "metadata": {},
   "source": [
    "# 1. Importing Libraries"
   ]
  },
  {
   "cell_type": "markdown",
   "metadata": {},
   "source": [
    "\n"
   ]
  },
  {
   "cell_type": "code",
   "execution_count": 1,
   "metadata": {
    "execution": {
     "iopub.execute_input": "2021-11-16T14:16:53.658015Z",
     "iopub.status.busy": "2021-11-16T14:16:53.657522Z",
     "iopub.status.idle": "2021-11-16T14:16:53.664905Z",
     "shell.execute_reply": "2021-11-16T14:16:53.664145Z",
     "shell.execute_reply.started": "2021-11-16T14:16:53.657968Z"
    },
    "id": "specialized-spirit"
   },
   "outputs": [],
   "source": [
    "import pandas as pd\n",
    "import numpy as np\n",
    "import seaborn as sns\n",
    "\n",
    "from sklearn.preprocessing import LabelEncoder\n",
    "\n",
    "import warnings\n",
    "warnings.filterwarnings('ignore')\n",
    "\n",
    "import matplotlib.pyplot as plt\n",
    "import seaborn as sns\n",
    "\n",
    "pd.set_option(\"display.max_rows\", None, \"display.max_columns\", None)"
   ]
  },
  {
   "cell_type": "markdown",
   "metadata": {},
   "source": [
    "# 2. Importing datasets"
   ]
  },
  {
   "cell_type": "code",
   "execution_count": 2,
   "metadata": {
    "execution": {
     "iopub.execute_input": "2021-11-16T14:16:53.667525Z",
     "iopub.status.busy": "2021-11-16T14:16:53.666804Z",
     "iopub.status.idle": "2021-11-16T14:17:03.913808Z",
     "shell.execute_reply": "2021-11-16T14:17:03.912590Z",
     "shell.execute_reply.started": "2021-11-16T14:16:53.667475Z"
    },
    "id": "hourly-house"
   },
   "outputs": [],
   "source": [
    "\n",
    "train = pd.read_csv(\"Train.csv\", parse_dates=['timestamp'])\n",
    "positive = train.loc[(train['event_type'] == 'install')].reset_index(drop = True)\n",
    "negative = train.loc[(train['event_type'] == 'click')].reset_index(drop = True)\n",
    "negative=negative.sample(frac = 0.26)\n",
    "\n",
    "train = pd.concat([positive,negative]).reset_index(drop = True)\n",
    "\n",
    "\n",
    "test = pd.read_csv(\"Test.csv\", parse_dates=['timestamp'])"
   ]
  },
  {
   "cell_type": "markdown",
   "metadata": {
    "id": "flying-treaty"
   },
   "source": [
    "## User Defined Functions"
   ]
  },
  {
   "cell_type": "code",
   "execution_count": 3,
   "metadata": {
    "execution": {
     "iopub.execute_input": "2021-11-16T14:17:03.917151Z",
     "iopub.status.busy": "2021-11-16T14:17:03.916774Z",
     "iopub.status.idle": "2021-11-16T14:17:03.941898Z",
     "shell.execute_reply": "2021-11-16T14:17:03.940379Z",
     "shell.execute_reply.started": "2021-11-16T14:17:03.917088Z"
    },
    "id": "boring-instrumentation",
    "scrolled": true
   },
   "outputs": [],
   "source": [
    "def quality_report(df):\n",
    "    \"\"\"\n",
    "    Description: Displays quality of data in terms of missing values, \n",
    "    unique numbers, datatypes etc.\n",
    "    \n",
    "    Arguments: Dataframe\n",
    "    \"\"\"\n",
    "    dtypes = df.dtypes\n",
    "    nuniq = df.T.apply(lambda x: x.nunique(), axis=1)\n",
    "    total = df.isnull().sum().sort_values(ascending = False)\n",
    "    percent = (df.isnull().sum()/df.isnull().count()*100).sort_values(ascending = False)\n",
    "    quality_df  = pd.concat([total, percent, nuniq, dtypes], axis=1, keys=['Total NaN', 'Percent of NaN','Nunique', 'Dtype'])\n",
    "    display(quality_df)\n",
    "\n",
    "\n",
    "def object_count_plot(df):\n",
    "    \"\"\"Description : Plot countplot for all categorical features present in the dataframe passed Argument : Dataframe\"\"\"\n",
    "    for var in df.columns:\n",
    "        if df[var].dtype == 'object':\n",
    "            print(df[var].value_counts())\n",
    "            plt.figure(figsize=(12,5))\n",
    "            g = sns.countplot(x=var,data=df)\n",
    "            g.set_xticklabels(g.get_xticklabels(), rotation=90, ha=\"right\")\n",
    "            plt.tight_layout()\n",
    "            plt.show()\n",
    "            \n",
    "        \n",
    "def numeric_distribution_plot(df):\n",
    "    \"\"\"Description : Gives distribution plot for all the numeric featuresin the dataframe passedArgument : Dataframe\"\"\"\n",
    "    for col in df.columns:\n",
    "        if df[col].dtype != 'object':\n",
    "            print(df[col].describe())\n",
    "            plt.figure(figsize=(12,5))\n",
    "            plt.title(\"Distribution of \"+col)\n",
    "            ax = sns.distplot(df[col].dropna())\n",
    "            plt.tight_layout()\n",
    "            plt.show()\n",
    "            value_counts = df[col].value_counts().rename_axis(\"unique_\"+col).to_frame('counts').sort_values('counts',ascending=False)\n",
    "            print(value_counts.head(5),'\\n',value_counts.tail(10))\n",
    "            sns.boxplot(train[col])    \n",
    "\n",
    "\n",
    "\n",
    "\n",
    "            \n",
    "def fill_numeric_median(df):\n",
    "    \"\"\"\n",
    "    Description : Replaces missing values for all the numeric features with the median\n",
    "    in the dataframe passed\n",
    "    \n",
    "    Argument : Dataframe\n",
    "    \"\"\"\n",
    "    for col in df.columns:\n",
    "        if df[col].dtype != 'object':\n",
    "            df[col].fillna(df[col].median(), inplace=True)\n",
    "#remember to fill for test too\n",
    "\n",
    "def fill_my_categoricals(df):\n",
    "    \"\"\"\n",
    "    Description : Replaces missing values for all the categorical features with None\n",
    "    in the dataframe passed\n",
    "    \n",
    "    Argument : Dataframe\n",
    "    \"\"\"\n",
    "    for col in df.columns:\n",
    "        if df[col].dtype != 'float64':\n",
    "            df[col].fillna(\"None\",inplace = True)\n",
    "#remember to fill test too"
   ]
  },
  {
   "cell_type": "markdown",
   "metadata": {
    "id": "narrow-latin"
   },
   "source": [
    "# 3. Quick EDA"
   ]
  },
  {
   "cell_type": "code",
   "execution_count": 4,
   "metadata": {
    "execution": {
     "iopub.execute_input": "2021-11-16T14:17:03.944860Z",
     "iopub.status.busy": "2021-11-16T14:17:03.943972Z",
     "iopub.status.idle": "2021-11-16T14:17:04.924759Z",
     "shell.execute_reply": "2021-11-16T14:17:04.923587Z",
     "shell.execute_reply.started": "2021-11-16T14:17:03.944802Z"
    },
    "id": "continent-conviction",
    "outputId": "877c2ba8-7e89-4160-94f1-6e8d2189403c",
    "scrolled": true
   },
   "outputs": [
    {
     "data": {
      "text/html": [
       "<div>\n",
       "<style scoped>\n",
       "    .dataframe tbody tr th:only-of-type {\n",
       "        vertical-align: middle;\n",
       "    }\n",
       "\n",
       "    .dataframe tbody tr th {\n",
       "        vertical-align: top;\n",
       "    }\n",
       "\n",
       "    .dataframe thead th {\n",
       "        text-align: right;\n",
       "    }\n",
       "</style>\n",
       "<table border=\"1\" class=\"dataframe\">\n",
       "  <thead>\n",
       "    <tr style=\"text-align: right;\">\n",
       "      <th></th>\n",
       "      <th>Total NaN</th>\n",
       "      <th>Percent of NaN</th>\n",
       "      <th>Nunique</th>\n",
       "      <th>Dtype</th>\n",
       "    </tr>\n",
       "  </thead>\n",
       "  <tbody>\n",
       "    <tr>\n",
       "      <th>spend_vas</th>\n",
       "      <td>4504</td>\n",
       "      <td>23.968921</td>\n",
       "      <td>841</td>\n",
       "      <td>float64</td>\n",
       "    </tr>\n",
       "    <tr>\n",
       "      <th>sms_cost</th>\n",
       "      <td>4504</td>\n",
       "      <td>23.968921</td>\n",
       "      <td>889</td>\n",
       "      <td>float64</td>\n",
       "    </tr>\n",
       "    <tr>\n",
       "      <th>spend_voice</th>\n",
       "      <td>4504</td>\n",
       "      <td>23.968921</td>\n",
       "      <td>9830</td>\n",
       "      <td>float64</td>\n",
       "    </tr>\n",
       "    <tr>\n",
       "      <th>spend_data</th>\n",
       "      <td>4504</td>\n",
       "      <td>23.968921</td>\n",
       "      <td>701</td>\n",
       "      <td>float64</td>\n",
       "    </tr>\n",
       "    <tr>\n",
       "      <th>location_region</th>\n",
       "      <td>1592</td>\n",
       "      <td>8.472141</td>\n",
       "      <td>6</td>\n",
       "      <td>object</td>\n",
       "    </tr>\n",
       "    <tr>\n",
       "      <th>location_state</th>\n",
       "      <td>1592</td>\n",
       "      <td>8.472141</td>\n",
       "      <td>37</td>\n",
       "      <td>object</td>\n",
       "    </tr>\n",
       "    <tr>\n",
       "      <th>location_lga</th>\n",
       "      <td>1141</td>\n",
       "      <td>6.072056</td>\n",
       "      <td>659</td>\n",
       "      <td>object</td>\n",
       "    </tr>\n",
       "    <tr>\n",
       "      <th>device_type</th>\n",
       "      <td>412</td>\n",
       "      <td>2.192539</td>\n",
       "      <td>2</td>\n",
       "      <td>object</td>\n",
       "    </tr>\n",
       "    <tr>\n",
       "      <th>os_vendor</th>\n",
       "      <td>379</td>\n",
       "      <td>2.016923</td>\n",
       "      <td>125</td>\n",
       "      <td>object</td>\n",
       "    </tr>\n",
       "    <tr>\n",
       "      <th>os_name</th>\n",
       "      <td>378</td>\n",
       "      <td>2.011601</td>\n",
       "      <td>89</td>\n",
       "      <td>object</td>\n",
       "    </tr>\n",
       "    <tr>\n",
       "      <th>device_model</th>\n",
       "      <td>337</td>\n",
       "      <td>1.793412</td>\n",
       "      <td>2291</td>\n",
       "      <td>object</td>\n",
       "    </tr>\n",
       "    <tr>\n",
       "      <th>device_manufacturer</th>\n",
       "      <td>313</td>\n",
       "      <td>1.665691</td>\n",
       "      <td>274</td>\n",
       "      <td>object</td>\n",
       "    </tr>\n",
       "    <tr>\n",
       "      <th>gender</th>\n",
       "      <td>303</td>\n",
       "      <td>1.612474</td>\n",
       "      <td>2</td>\n",
       "      <td>object</td>\n",
       "    </tr>\n",
       "    <tr>\n",
       "      <th>timeline</th>\n",
       "      <td>266</td>\n",
       "      <td>1.415571</td>\n",
       "      <td>148</td>\n",
       "      <td>float64</td>\n",
       "    </tr>\n",
       "    <tr>\n",
       "      <th>customer_value</th>\n",
       "      <td>86</td>\n",
       "      <td>0.457666</td>\n",
       "      <td>5</td>\n",
       "      <td>object</td>\n",
       "    </tr>\n",
       "    <tr>\n",
       "      <th>customer_class</th>\n",
       "      <td>86</td>\n",
       "      <td>0.457666</td>\n",
       "      <td>27</td>\n",
       "      <td>float64</td>\n",
       "    </tr>\n",
       "    <tr>\n",
       "      <th>spend_total</th>\n",
       "      <td>86</td>\n",
       "      <td>0.457666</td>\n",
       "      <td>15342</td>\n",
       "      <td>float64</td>\n",
       "    </tr>\n",
       "    <tr>\n",
       "      <th>age</th>\n",
       "      <td>85</td>\n",
       "      <td>0.452344</td>\n",
       "      <td>86</td>\n",
       "      <td>float64</td>\n",
       "    </tr>\n",
       "    <tr>\n",
       "      <th>has_bank</th>\n",
       "      <td>8</td>\n",
       "      <td>0.042574</td>\n",
       "      <td>2</td>\n",
       "      <td>object</td>\n",
       "    </tr>\n",
       "    <tr>\n",
       "      <th>ad_text</th>\n",
       "      <td>0</td>\n",
       "      <td>0.000000</td>\n",
       "      <td>57</td>\n",
       "      <td>object</td>\n",
       "    </tr>\n",
       "    <tr>\n",
       "      <th>event_type</th>\n",
       "      <td>0</td>\n",
       "      <td>0.000000</td>\n",
       "      <td>2</td>\n",
       "      <td>object</td>\n",
       "    </tr>\n",
       "    <tr>\n",
       "      <th>timestamp</th>\n",
       "      <td>0</td>\n",
       "      <td>0.000000</td>\n",
       "      <td>18504</td>\n",
       "      <td>object</td>\n",
       "    </tr>\n",
       "    <tr>\n",
       "      <th>msisdn</th>\n",
       "      <td>0</td>\n",
       "      <td>0.000000</td>\n",
       "      <td>18328</td>\n",
       "      <td>object</td>\n",
       "    </tr>\n",
       "  </tbody>\n",
       "</table>\n",
       "</div>"
      ],
      "text/plain": [
       "                     Total NaN  Percent of NaN  Nunique    Dtype\n",
       "spend_vas                 4504       23.968921      841  float64\n",
       "sms_cost                  4504       23.968921      889  float64\n",
       "spend_voice               4504       23.968921     9830  float64\n",
       "spend_data                4504       23.968921      701  float64\n",
       "location_region           1592        8.472141        6   object\n",
       "location_state            1592        8.472141       37   object\n",
       "location_lga              1141        6.072056      659   object\n",
       "device_type                412        2.192539        2   object\n",
       "os_vendor                  379        2.016923      125   object\n",
       "os_name                    378        2.011601       89   object\n",
       "device_model               337        1.793412     2291   object\n",
       "device_manufacturer        313        1.665691      274   object\n",
       "gender                     303        1.612474        2   object\n",
       "timeline                   266        1.415571      148  float64\n",
       "customer_value              86        0.457666        5   object\n",
       "customer_class              86        0.457666       27  float64\n",
       "spend_total                 86        0.457666    15342  float64\n",
       "age                         85        0.452344       86  float64\n",
       "has_bank                     8        0.042574        2   object\n",
       "ad_text                      0        0.000000       57   object\n",
       "event_type                   0        0.000000        2   object\n",
       "timestamp                    0        0.000000    18504   object\n",
       "msisdn                       0        0.000000    18328   object"
      ]
     },
     "metadata": {},
     "output_type": "display_data"
    }
   ],
   "source": [
    "quality_report(train)"
   ]
  },
  {
   "cell_type": "code",
   "execution_count": 5,
   "metadata": {
    "execution": {
     "iopub.execute_input": "2021-11-16T14:17:04.927282Z",
     "iopub.status.busy": "2021-11-16T14:17:04.926994Z",
     "iopub.status.idle": "2021-11-16T14:17:05.164858Z",
     "shell.execute_reply": "2021-11-16T14:17:05.163841Z",
     "shell.execute_reply.started": "2021-11-16T14:17:04.927235Z"
    },
    "id": "centered-prayer",
    "outputId": "c2106ad6-15f9-4685-c518-3697e8879cde"
   },
   "outputs": [
    {
     "data": {
      "text/plain": [
       "<AxesSubplot:xlabel='event_type', ylabel='count'>"
      ]
     },
     "execution_count": 5,
     "metadata": {},
     "output_type": "execute_result"
    },
    {
     "data": {
      "image/png": "[encoded data removed]",
      "text/plain": [
       "<Figure size 432x288 with 1 Axes>"
      ]
     },
     "metadata": {
      "needs_background": "light"
     },
     "output_type": "display_data"
    }
   ],
   "source": [
    "sns.countplot(train['event_type'])"
   ]
  },
  {
   "cell_type": "code",
   "execution_count": 6,
   "metadata": {
    "execution": {
     "iopub.execute_input": "2021-11-16T14:17:05.166617Z",
     "iopub.status.busy": "2021-11-16T14:17:05.166360Z",
     "iopub.status.idle": "2021-11-16T14:17:11.158959Z",
     "shell.execute_reply": "2021-11-16T14:17:11.158020Z",
     "shell.execute_reply.started": "2021-11-16T14:17:05.166586Z"
    },
    "id": "streaming-separate"
   },
   "outputs": [
    {
     "name": "stdout",
     "output_type": "stream",
     "text": [
      "count    1.852500e+04\n",
      "mean     1.561829e+12\n",
      "std      8.231670e+08\n",
      "min      1.558113e+12\n",
      "25%      1.561378e+12\n",
      "50%      1.561991e+12\n",
      "75%      1.562241e+12\n",
      "max      1.562597e+12\n",
      "Name: timeline, dtype: float64\n"
     ]
    },
    {
     "data": {
      "image/png": "[encoded data removed]",
      "text/plain": [
       "<Figure size 864x360 with 1 Axes>"
      ]
     },
     "metadata": {
      "needs_background": "light"
     },
     "output_type": "display_data"
    },
    {
     "name": "stdout",
     "output_type": "stream",
     "text": [
      "                 counts\n",
      "unique_timeline        \n",
      "1.562597e+12       2768\n",
      "1.561991e+12       2656\n",
      "1.561990e+12       1856\n",
      "1.562234e+12       1795\n",
      "1.562241e+12       1666 \n",
      "                  counts\n",
      "unique_timeline        \n",
      "1.561558e+12          2\n",
      "1.559834e+12          1\n",
      "1.559920e+12          1\n",
      "1.559836e+12          1\n",
      "1.558366e+12          1\n",
      "1.559576e+12          1\n",
      "1.559929e+12          1\n",
      "1.560527e+12          1\n",
      "1.559834e+12          1\n",
      "1.559576e+12          1\n",
      "count    1.870500e+04\n",
      "mean     5.479894e+03\n",
      "std      2.709668e+04\n",
      "min      0.000000e+00\n",
      "25%      3.274000e+02\n",
      "50%      1.569550e+03\n",
      "75%      4.803400e+03\n",
      "max      1.535133e+06\n",
      "Name: spend_total, dtype: float64\n"
     ]
    },
    {
     "data": {
      "image/png": "[encoded data removed]",
      "text/plain": [
       "<Figure size 432x288 with 1 Axes>"
      ]
     },
     "metadata": {
      "needs_background": "light"
     },
     "output_type": "display_data"
    },
    {
     "data": {
      "image/png": "[encoded data removed]",
      "text/plain": [
       "<Figure size 864x360 with 1 Axes>"
      ]
     },
     "metadata": {
      "needs_background": "light"
     },
     "output_type": "display_data"
    },
    {
     "name": "stdout",
     "output_type": "stream",
     "text": [
      "                    counts\n",
      "unique_spend_total        \n",
      "0.0                   2118\n",
      "1000.0                  44\n",
      "100.0                   42\n",
      "200.0                   41\n",
      "1200.0                  19 \n",
      "                     counts\n",
      "unique_spend_total        \n",
      "2087.0500                1\n",
      "4355.6800                1\n",
      "3087.8000                1\n",
      "200.2400                 1\n",
      "9846.1315                1\n",
      "17095.2600               1\n",
      "379.9000                 1\n",
      "10306.7100               1\n",
      "607.8350                 1\n",
      "2693.3200                1\n",
      "count     14287.000000\n",
      "mean        302.075103\n",
      "std        1238.807919\n",
      "min           0.000000\n",
      "25%           0.000000\n",
      "50%          20.000000\n",
      "75%         250.000000\n",
      "max      104550.000000\n",
      "Name: spend_vas, dtype: float64\n"
     ]
    },
    {
     "data": {
      "image/png": "[encoded data removed]",
      "text/plain": [
       "<Figure size 432x288 with 1 Axes>"
      ]
     },
     "metadata": {
      "needs_background": "light"
     },
     "output_type": "display_data"
    },
    {
     "data": {
      "image/png": "[encoded data removed]",
      "text/plain": [
       "<Figure size 864x360 with 1 Axes>"
      ]
     },
     "metadata": {
      "needs_background": "light"
     },
     "output_type": "display_data"
    },
    {
     "name": "stdout",
     "output_type": "stream",
     "text": [
      "                  counts\n",
      "unique_spend_vas        \n",
      "0.0                 6646\n",
      "100.0                593\n",
      "50.0                 509\n",
      "150.0                247\n",
      "200.0                244 \n",
      "                   counts\n",
      "unique_spend_vas        \n",
      "6825.0                 1\n",
      "809.0                  1\n",
      "322.0                  1\n",
      "945.0                  1\n",
      "1640.0                 1\n",
      "2850.0                 1\n",
      "1185.0                 1\n",
      "2815.0                 1\n",
      "685.0                  1\n",
      "4325.0                 1\n",
      "count    14287.000000\n",
      "mean        74.741785\n",
      "std        260.049426\n",
      "min          0.000000\n",
      "25%          0.000000\n",
      "50%          4.000000\n",
      "75%         52.000000\n",
      "max      11837.000000\n",
      "Name: sms_cost, dtype: float64\n"
     ]
    },
    {
     "data": {
      "image/png": "[encoded data removed]",
      "text/plain": [
       "<Figure size 432x288 with 1 Axes>"
      ]
     },
     "metadata": {
      "needs_background": "light"
     },
     "output_type": "display_data"
    },
    {
     "data": {
      "image/png": "[encoded data removed]",
      "text/plain": [
       "<Figure size 864x360 with 1 Axes>"
      ]
     },
     "metadata": {
      "needs_background": "light"
     },
     "output_type": "display_data"
    },
    {
     "name": "stdout",
     "output_type": "stream",
     "text": [
      "                 counts\n",
      "unique_sms_cost        \n",
      "0.0                6318\n",
      "4.0                 994\n",
      "8.0                 657\n",
      "12.0                430\n",
      "16.0                382 \n",
      "                  counts\n",
      "unique_sms_cost        \n",
      "477.600               1\n",
      "459.000               1\n",
      "6.300                 1\n",
      "51.600                1\n",
      "366.000               1\n",
      "195.000               1\n",
      "419.600               1\n",
      "274.185               1\n",
      "1.805                 1\n",
      "1174.000              1\n",
      "count    14287.000000\n",
      "mean      1749.165882\n",
      "std       3141.274975\n",
      "min          0.000000\n",
      "25%         10.330000\n",
      "50%        570.240000\n",
      "75%       2043.890000\n",
      "max      44156.500000\n",
      "Name: spend_voice, dtype: float64\n"
     ]
    },
    {
     "data": {
      "image/png": "[encoded data removed]",
      "text/plain": [
       "<Figure size 432x288 with 1 Axes>"
      ]
     },
     "metadata": {
      "needs_background": "light"
     },
     "output_type": "display_data"
    },
    {
     "data": {
      "image/png": "[encoded data removed]",
      "text/plain": [
       "<Figure size 864x360 with 1 Axes>"
      ]
     },
     "metadata": {
      "needs_background": "light"
     },
     "output_type": "display_data"
    },
    {
     "name": "stdout",
     "output_type": "stream",
     "text": [
      "                    counts\n",
      "unique_spend_voice        \n",
      "0.0                   3273\n",
      "100.0                   44\n",
      "200.0                   19\n",
      "50.0                    15\n",
      "10.0                    14 \n",
      "                     counts\n",
      "unique_spend_voice        \n",
      "10677.875                1\n",
      "2905.200                 1\n",
      "752.000                  1\n",
      "253.800                  1\n",
      "207.220                  1\n",
      "12.760                   1\n",
      "650.955                  1\n",
      "971.330                  1\n",
      "16111.640                1\n",
      "3077.270                 1\n",
      "count    14287.000000\n",
      "mean       478.884690\n",
      "std       1114.601939\n",
      "min          0.000000\n",
      "25%          0.000000\n",
      "50%          0.000000\n",
      "75%        500.000000\n",
      "max      22500.000000\n",
      "Name: spend_data, dtype: float64\n"
     ]
    },
    {
     "data": {
      "image/png": "[encoded data removed]",
      "text/plain": [
       "<Figure size 432x288 with 1 Axes>"
      ]
     },
     "metadata": {
      "needs_background": "light"
     },
     "output_type": "display_data"
    },
    {
     "data": {
      "image/png": "[encoded data removed]",
      "text/plain": [
       "<Figure size 864x360 with 1 Axes>"
      ]
     },
     "metadata": {
      "needs_background": "light"
     },
     "output_type": "display_data"
    },
    {
     "name": "stdout",
     "output_type": "stream",
     "text": [
      "                   counts\n",
      "unique_spend_data        \n",
      "0.0                  9015\n",
      "1000.0               1461\n",
      "2000.0                681\n",
      "60.0                  278\n",
      "100.0                 138 \n",
      "                    counts\n",
      "unique_spend_data        \n",
      "55.110                  1\n",
      "101.516                 1\n",
      "3975.000                1\n",
      "0.950                   1\n",
      "48.250                  1\n",
      "7.430                   1\n",
      "9.200                   1\n",
      "185.385                 1\n",
      "5800.000                1\n",
      "1240.000                1\n",
      "count    18705.000000\n",
      "mean        63.223577\n",
      "std         83.881492\n",
      "min         19.000000\n",
      "25%         44.000000\n",
      "50%         46.000000\n",
      "75%         46.000000\n",
      "max       1051.000000\n",
      "Name: customer_class, dtype: float64\n"
     ]
    },
    {
     "data": {
      "image/png": "[encoded data removed]",
      "text/plain": [
       "<Figure size 432x288 with 1 Axes>"
      ]
     },
     "metadata": {
      "needs_background": "light"
     },
     "output_type": "display_data"
    },
    {
     "data": {
      "image/png": "[encoded data removed]",
      "text/plain": [
       "<Figure size 864x360 with 1 Axes>"
      ]
     },
     "metadata": {
      "needs_background": "light"
     },
     "output_type": "display_data"
    },
    {
     "name": "stdout",
     "output_type": "stream",
     "text": [
      "                       counts\n",
      "unique_customer_class        \n",
      "46.0                     7786\n",
      "44.0                     4502\n",
      "49.0                     3004\n",
      "42.0                      872\n",
      "186.0                     760 \n",
      "                        counts\n",
      "unique_customer_class        \n",
      "95.0                        9\n",
      "97.0                        8\n",
      "302.0                       6\n",
      "25.0                        5\n",
      "402.0                       4\n",
      "20.0                        2\n",
      "317.0                       2\n",
      "412.0                       2\n",
      "79.0                        1\n",
      "184.0                       1\n",
      "count    18706.000000\n",
      "mean        41.089169\n",
      "std        101.137801\n",
      "min          0.000000\n",
      "25%         27.000000\n",
      "50%         34.000000\n",
      "75%         43.000000\n",
      "max       2020.000000\n",
      "Name: age, dtype: float64\n"
     ]
    },
    {
     "data": {
      "image/png": "[encoded data removed]",
      "text/plain": [
       "<Figure size 432x288 with 1 Axes>"
      ]
     },
     "metadata": {
      "needs_background": "light"
     },
     "output_type": "display_data"
    },
    {
     "data": {
      "image/png": "[encoded data removed]",
      "text/plain": [
       "<Figure size 864x360 with 1 Axes>"
      ]
     },
     "metadata": {
      "needs_background": "light"
     },
     "output_type": "display_data"
    },
    {
     "name": "stdout",
     "output_type": "stream",
     "text": [
      "            counts\n",
      "unique_age        \n",
      "24.0           704\n",
      "27.0           655\n",
      "34.0           645\n",
      "23.0           643\n",
      "30.0           640 \n",
      "             counts\n",
      "unique_age        \n",
      "87.0             1\n",
      "111.0            1\n",
      "86.0             1\n",
      "120.0            1\n",
      "99.0             1\n",
      "112.0            1\n",
      "101.0            1\n",
      "16.0             1\n",
      "97.0             1\n",
      "91.0             1\n"
     ]
    },
    {
     "data": {
      "image/png": "[encoded data removed]",
      "text/plain": [
       "<Figure size 432x288 with 1 Axes>"
      ]
     },
     "metadata": {
      "needs_background": "light"
     },
     "output_type": "display_data"
    }
   ],
   "source": [
    "numeric_distribution_plot(train)"
   ]
  },
  {
   "cell_type": "code",
   "execution_count": 7,
   "metadata": {
    "execution": {
     "iopub.execute_input": "2021-11-16T14:17:11.161909Z",
     "iopub.status.busy": "2021-11-16T14:17:11.160632Z",
     "iopub.status.idle": "2021-11-16T14:17:11.169580Z",
     "shell.execute_reply": "2021-11-16T14:17:11.168406Z",
     "shell.execute_reply.started": "2021-11-16T14:17:11.161856Z"
    }
   },
   "outputs": [
    {
     "data": {
      "text/plain": [
       "(18791, 23)"
      ]
     },
     "execution_count": 7,
     "metadata": {},
     "output_type": "execute_result"
    }
   ],
   "source": [
    "train.shape"
   ]
  },
  {
   "cell_type": "code",
   "execution_count": 8,
   "metadata": {
    "execution": {
     "iopub.execute_input": "2021-11-16T14:17:11.172249Z",
     "iopub.status.busy": "2021-11-16T14:17:11.171234Z",
     "iopub.status.idle": "2021-11-16T14:17:11.184639Z",
     "shell.execute_reply": "2021-11-16T14:17:11.183636Z",
     "shell.execute_reply.started": "2021-11-16T14:17:11.172196Z"
    }
   },
   "outputs": [],
   "source": [
    "#train = train.drop(train.loc[train['timeline'] < 1.559834e+12].index)\n",
    "#train.shape"
   ]
  },
  {
   "cell_type": "code",
   "execution_count": 9,
   "metadata": {
    "execution": {
     "iopub.execute_input": "2021-11-16T14:17:11.187188Z",
     "iopub.status.busy": "2021-11-16T14:17:11.186618Z",
     "iopub.status.idle": "2021-11-16T14:17:11.196699Z",
     "shell.execute_reply": "2021-11-16T14:17:11.195298Z",
     "shell.execute_reply.started": "2021-11-16T14:17:11.187139Z"
    }
   },
   "outputs": [],
   "source": [
    "#train = train.drop(train.loc[train['spend_total']>1.5e+6].index)\n",
    "#train.shape"
   ]
  },
  {
   "cell_type": "code",
   "execution_count": 10,
   "metadata": {
    "execution": {
     "iopub.execute_input": "2021-11-16T14:17:11.198465Z",
     "iopub.status.busy": "2021-11-16T14:17:11.198201Z",
     "iopub.status.idle": "2021-11-16T14:17:11.210557Z",
     "shell.execute_reply": "2021-11-16T14:17:11.209508Z",
     "shell.execute_reply.started": "2021-11-16T14:17:11.198437Z"
    }
   },
   "outputs": [],
   "source": [
    "#train = train.drop(train.loc[train['spend_vas']>50000].index)\n",
    "#train.shape"
   ]
  },
  {
   "cell_type": "code",
   "execution_count": 11,
   "metadata": {
    "execution": {
     "iopub.execute_input": "2021-11-16T14:17:11.215920Z",
     "iopub.status.busy": "2021-11-16T14:17:11.215162Z",
     "iopub.status.idle": "2021-11-16T14:17:11.222904Z",
     "shell.execute_reply": "2021-11-16T14:17:11.222195Z",
     "shell.execute_reply.started": "2021-11-16T14:17:11.215867Z"
    }
   },
   "outputs": [],
   "source": [
    "#train = train.drop(train.loc[train['sms_cost']>10000].index)\n",
    "#train.shape"
   ]
  },
  {
   "cell_type": "code",
   "execution_count": 12,
   "metadata": {
    "execution": {
     "iopub.execute_input": "2021-11-16T14:17:11.225344Z",
     "iopub.status.busy": "2021-11-16T14:17:11.224654Z",
     "iopub.status.idle": "2021-11-16T14:17:11.236071Z",
     "shell.execute_reply": "2021-11-16T14:17:11.234870Z",
     "shell.execute_reply.started": "2021-11-16T14:17:11.225261Z"
    }
   },
   "outputs": [],
   "source": [
    "#train = train.drop(train.loc[train['spend_voice']>60000].index)\n",
    "#train.shape"
   ]
  },
  {
   "cell_type": "code",
   "execution_count": 13,
   "metadata": {
    "execution": {
     "iopub.execute_input": "2021-11-16T14:17:11.238588Z",
     "iopub.status.busy": "2021-11-16T14:17:11.237367Z",
     "iopub.status.idle": "2021-11-16T14:17:11.248335Z",
     "shell.execute_reply": "2021-11-16T14:17:11.247377Z",
     "shell.execute_reply.started": "2021-11-16T14:17:11.238527Z"
    }
   },
   "outputs": [],
   "source": [
    "#train = train.drop(train.loc[train['spend_data']>19000].index)\n",
    "#train.shape"
   ]
  },
  {
   "cell_type": "code",
   "execution_count": 14,
   "metadata": {
    "execution": {
     "iopub.execute_input": "2021-11-16T14:17:11.250521Z",
     "iopub.status.busy": "2021-11-16T14:17:11.249652Z",
     "iopub.status.idle": "2021-11-16T14:17:11.260810Z",
     "shell.execute_reply": "2021-11-16T14:17:11.259785Z",
     "shell.execute_reply.started": "2021-11-16T14:17:11.250476Z"
    }
   },
   "outputs": [],
   "source": [
    "#train = train.drop(train.loc[train['customer_class']>600].index)\n",
    "#train.shape"
   ]
  },
  {
   "cell_type": "code",
   "execution_count": 15,
   "metadata": {
    "execution": {
     "iopub.execute_input": "2021-11-16T14:17:11.262864Z",
     "iopub.status.busy": "2021-11-16T14:17:11.262181Z",
     "iopub.status.idle": "2021-11-16T14:17:11.273108Z",
     "shell.execute_reply": "2021-11-16T14:17:11.272203Z",
     "shell.execute_reply.started": "2021-11-16T14:17:11.262813Z"
    }
   },
   "outputs": [],
   "source": [
    "#train = train.drop(train.loc[train['age']>100].index)\n",
    "#train.shape"
   ]
  },
  {
   "cell_type": "code",
   "execution_count": 16,
   "metadata": {
    "execution": {
     "iopub.execute_input": "2021-11-16T14:17:11.275637Z",
     "iopub.status.busy": "2021-11-16T14:17:11.275047Z",
     "iopub.status.idle": "2021-11-16T14:17:11.285459Z",
     "shell.execute_reply": "2021-11-16T14:17:11.284392Z",
     "shell.execute_reply.started": "2021-11-16T14:17:11.275600Z"
    }
   },
   "outputs": [],
   "source": [
    "#train.shape"
   ]
  },
  {
   "cell_type": "code",
   "execution_count": 17,
   "metadata": {
    "execution": {
     "iopub.execute_input": "2021-11-16T14:17:11.287219Z",
     "iopub.status.busy": "2021-11-16T14:17:11.286863Z",
     "iopub.status.idle": "2021-11-16T14:17:11.474194Z",
     "shell.execute_reply": "2021-11-16T14:17:11.473566Z",
     "shell.execute_reply.started": "2021-11-16T14:17:11.287171Z"
    }
   },
   "outputs": [
    {
     "data": {
      "text/plain": [
       "<AxesSubplot:xlabel='event_type', ylabel='count'>"
      ]
     },
     "execution_count": 17,
     "metadata": {},
     "output_type": "execute_result"
    },
    {
     "data": {
      "image/png": "[encoded data removed]",
      "text/plain": [
       "<Figure size 432x288 with 1 Axes>"
      ]
     },
     "metadata": {
      "needs_background": "light"
     },
     "output_type": "display_data"
    }
   ],
   "source": [
    "sns.countplot(train['event_type'])"
   ]
  },
  {
   "cell_type": "code",
   "execution_count": 18,
   "metadata": {
    "execution": {
     "iopub.execute_input": "2021-11-16T14:17:11.476189Z",
     "iopub.status.busy": "2021-11-16T14:17:11.475672Z",
     "iopub.status.idle": "2021-11-16T14:17:11.520658Z",
     "shell.execute_reply": "2021-11-16T14:17:11.519836Z",
     "shell.execute_reply.started": "2021-11-16T14:17:11.476131Z"
    },
    "id": "smooth-glucose",
    "outputId": "68f561bf-ee75-4c96-f95a-1138e6edc6d0"
   },
   "outputs": [
    {
     "data": {
      "text/html": [
       "<div>\n",
       "<style scoped>\n",
       "    .dataframe tbody tr th:only-of-type {\n",
       "        vertical-align: middle;\n",
       "    }\n",
       "\n",
       "    .dataframe tbody tr th {\n",
       "        vertical-align: top;\n",
       "    }\n",
       "\n",
       "    .dataframe thead th {\n",
       "        text-align: right;\n",
       "    }\n",
       "</style>\n",
       "<table border=\"1\" class=\"dataframe\">\n",
       "  <thead>\n",
       "    <tr style=\"text-align: right;\">\n",
       "      <th></th>\n",
       "      <th>timeline</th>\n",
       "      <th>spend_total</th>\n",
       "      <th>spend_vas</th>\n",
       "      <th>sms_cost</th>\n",
       "      <th>spend_voice</th>\n",
       "      <th>spend_data</th>\n",
       "      <th>customer_class</th>\n",
       "      <th>age</th>\n",
       "    </tr>\n",
       "  </thead>\n",
       "  <tbody>\n",
       "    <tr>\n",
       "      <th>count</th>\n",
       "      <td>1.852500e+04</td>\n",
       "      <td>1.870500e+04</td>\n",
       "      <td>14287.000000</td>\n",
       "      <td>14287.000000</td>\n",
       "      <td>14287.000000</td>\n",
       "      <td>14287.000000</td>\n",
       "      <td>18705.000000</td>\n",
       "      <td>18706.000000</td>\n",
       "    </tr>\n",
       "    <tr>\n",
       "      <th>mean</th>\n",
       "      <td>1.561829e+12</td>\n",
       "      <td>5.479894e+03</td>\n",
       "      <td>302.075103</td>\n",
       "      <td>74.741785</td>\n",
       "      <td>1749.165882</td>\n",
       "      <td>478.884690</td>\n",
       "      <td>63.223577</td>\n",
       "      <td>41.089169</td>\n",
       "    </tr>\n",
       "    <tr>\n",
       "      <th>std</th>\n",
       "      <td>8.231670e+08</td>\n",
       "      <td>2.709668e+04</td>\n",
       "      <td>1238.807919</td>\n",
       "      <td>260.049426</td>\n",
       "      <td>3141.274975</td>\n",
       "      <td>1114.601939</td>\n",
       "      <td>83.881492</td>\n",
       "      <td>101.137801</td>\n",
       "    </tr>\n",
       "    <tr>\n",
       "      <th>min</th>\n",
       "      <td>1.558113e+12</td>\n",
       "      <td>0.000000e+00</td>\n",
       "      <td>0.000000</td>\n",
       "      <td>0.000000</td>\n",
       "      <td>0.000000</td>\n",
       "      <td>0.000000</td>\n",
       "      <td>19.000000</td>\n",
       "      <td>0.000000</td>\n",
       "    </tr>\n",
       "    <tr>\n",
       "      <th>25%</th>\n",
       "      <td>1.561378e+12</td>\n",
       "      <td>3.274000e+02</td>\n",
       "      <td>0.000000</td>\n",
       "      <td>0.000000</td>\n",
       "      <td>10.330000</td>\n",
       "      <td>0.000000</td>\n",
       "      <td>44.000000</td>\n",
       "      <td>27.000000</td>\n",
       "    </tr>\n",
       "    <tr>\n",
       "      <th>50%</th>\n",
       "      <td>1.561991e+12</td>\n",
       "      <td>1.569550e+03</td>\n",
       "      <td>20.000000</td>\n",
       "      <td>4.000000</td>\n",
       "      <td>570.240000</td>\n",
       "      <td>0.000000</td>\n",
       "      <td>46.000000</td>\n",
       "      <td>34.000000</td>\n",
       "    </tr>\n",
       "    <tr>\n",
       "      <th>75%</th>\n",
       "      <td>1.562241e+12</td>\n",
       "      <td>4.803400e+03</td>\n",
       "      <td>250.000000</td>\n",
       "      <td>52.000000</td>\n",
       "      <td>2043.890000</td>\n",
       "      <td>500.000000</td>\n",
       "      <td>46.000000</td>\n",
       "      <td>43.000000</td>\n",
       "    </tr>\n",
       "    <tr>\n",
       "      <th>max</th>\n",
       "      <td>1.562597e+12</td>\n",
       "      <td>1.535133e+06</td>\n",
       "      <td>104550.000000</td>\n",
       "      <td>11837.000000</td>\n",
       "      <td>44156.500000</td>\n",
       "      <td>22500.000000</td>\n",
       "      <td>1051.000000</td>\n",
       "      <td>2020.000000</td>\n",
       "    </tr>\n",
       "  </tbody>\n",
       "</table>\n",
       "</div>"
      ],
      "text/plain": [
       "           timeline   spend_total      spend_vas      sms_cost   spend_voice  \\\n",
       "count  1.852500e+04  1.870500e+04   14287.000000  14287.000000  14287.000000   \n",
       "mean   1.561829e+12  5.479894e+03     302.075103     74.741785   1749.165882   \n",
       "std    8.231670e+08  2.709668e+04    1238.807919    260.049426   3141.274975   \n",
       "min    1.558113e+12  0.000000e+00       0.000000      0.000000      0.000000   \n",
       "25%    1.561378e+12  3.274000e+02       0.000000      0.000000     10.330000   \n",
       "50%    1.561991e+12  1.569550e+03      20.000000      4.000000    570.240000   \n",
       "75%    1.562241e+12  4.803400e+03     250.000000     52.000000   2043.890000   \n",
       "max    1.562597e+12  1.535133e+06  104550.000000  11837.000000  44156.500000   \n",
       "\n",
       "         spend_data  customer_class           age  \n",
       "count  14287.000000    18705.000000  18706.000000  \n",
       "mean     478.884690       63.223577     41.089169  \n",
       "std     1114.601939       83.881492    101.137801  \n",
       "min        0.000000       19.000000      0.000000  \n",
       "25%        0.000000       44.000000     27.000000  \n",
       "50%        0.000000       46.000000     34.000000  \n",
       "75%      500.000000       46.000000     43.000000  \n",
       "max    22500.000000     1051.000000   2020.000000  "
      ]
     },
     "execution_count": 18,
     "metadata": {},
     "output_type": "execute_result"
    }
   ],
   "source": [
    "train.describe()"
   ]
  },
  {
   "cell_type": "code",
   "execution_count": 19,
   "metadata": {
    "execution": {
     "iopub.execute_input": "2021-11-16T14:17:11.522039Z",
     "iopub.status.busy": "2021-11-16T14:17:11.521799Z",
     "iopub.status.idle": "2021-11-16T14:17:11.526695Z",
     "shell.execute_reply": "2021-11-16T14:17:11.525537Z",
     "shell.execute_reply.started": "2021-11-16T14:17:11.522008Z"
    }
   },
   "outputs": [],
   "source": [
    "#sns.boxplot(grubbs.test(train['age'],alpha=.05))"
   ]
  },
  {
   "cell_type": "code",
   "execution_count": 20,
   "metadata": {
    "execution": {
     "iopub.execute_input": "2021-11-16T14:17:11.528232Z",
     "iopub.status.busy": "2021-11-16T14:17:11.527986Z",
     "iopub.status.idle": "2021-11-16T14:17:11.537244Z",
     "shell.execute_reply": "2021-11-16T14:17:11.536352Z",
     "shell.execute_reply.started": "2021-11-16T14:17:11.528202Z"
    }
   },
   "outputs": [],
   "source": [
    "#numeric_distribution_plot(test)"
   ]
  },
  {
   "cell_type": "code",
   "execution_count": 21,
   "metadata": {
    "execution": {
     "iopub.execute_input": "2021-11-16T14:17:11.539828Z",
     "iopub.status.busy": "2021-11-16T14:17:11.538901Z",
     "iopub.status.idle": "2021-11-16T14:17:11.581495Z",
     "shell.execute_reply": "2021-11-16T14:17:11.580603Z",
     "shell.execute_reply.started": "2021-11-16T14:17:11.539787Z"
    }
   },
   "outputs": [
    {
     "data": {
      "text/html": [
       "<div>\n",
       "<style scoped>\n",
       "    .dataframe tbody tr th:only-of-type {\n",
       "        vertical-align: middle;\n",
       "    }\n",
       "\n",
       "    .dataframe tbody tr th {\n",
       "        vertical-align: top;\n",
       "    }\n",
       "\n",
       "    .dataframe thead th {\n",
       "        text-align: right;\n",
       "    }\n",
       "</style>\n",
       "<table border=\"1\" class=\"dataframe\">\n",
       "  <thead>\n",
       "    <tr style=\"text-align: right;\">\n",
       "      <th></th>\n",
       "      <th>timeline</th>\n",
       "      <th>spend_total</th>\n",
       "      <th>spend_vas</th>\n",
       "      <th>sms_cost</th>\n",
       "      <th>spend_voice</th>\n",
       "      <th>spend_data</th>\n",
       "      <th>customer_class</th>\n",
       "      <th>age</th>\n",
       "    </tr>\n",
       "  </thead>\n",
       "  <tbody>\n",
       "    <tr>\n",
       "      <th>count</th>\n",
       "      <td>5.936000e+03</td>\n",
       "      <td>5962.000000</td>\n",
       "      <td>4441.000000</td>\n",
       "      <td>4441.000000</td>\n",
       "      <td>4441.000000</td>\n",
       "      <td>4441.000000</td>\n",
       "      <td>5962.000000</td>\n",
       "      <td>5962.000000</td>\n",
       "    </tr>\n",
       "    <tr>\n",
       "      <th>mean</th>\n",
       "      <td>1.561909e+12</td>\n",
       "      <td>4186.080074</td>\n",
       "      <td>263.353637</td>\n",
       "      <td>57.356201</td>\n",
       "      <td>1506.574206</td>\n",
       "      <td>433.622879</td>\n",
       "      <td>64.135693</td>\n",
       "      <td>41.478698</td>\n",
       "    </tr>\n",
       "    <tr>\n",
       "      <th>std</th>\n",
       "      <td>8.645238e+08</td>\n",
       "      <td>11597.952072</td>\n",
       "      <td>1078.010972</td>\n",
       "      <td>196.506736</td>\n",
       "      <td>2856.574220</td>\n",
       "      <td>1035.525044</td>\n",
       "      <td>85.590881</td>\n",
       "      <td>106.574919</td>\n",
       "    </tr>\n",
       "    <tr>\n",
       "      <th>min</th>\n",
       "      <td>1.558113e+12</td>\n",
       "      <td>0.000000</td>\n",
       "      <td>0.000000</td>\n",
       "      <td>0.000000</td>\n",
       "      <td>0.000000</td>\n",
       "      <td>0.000000</td>\n",
       "      <td>19.000000</td>\n",
       "      <td>0.000000</td>\n",
       "    </tr>\n",
       "    <tr>\n",
       "      <th>25%</th>\n",
       "      <td>1.561736e+12</td>\n",
       "      <td>273.317499</td>\n",
       "      <td>0.000000</td>\n",
       "      <td>0.000000</td>\n",
       "      <td>0.400000</td>\n",
       "      <td>0.000000</td>\n",
       "      <td>44.000000</td>\n",
       "      <td>26.000000</td>\n",
       "    </tr>\n",
       "    <tr>\n",
       "      <th>50%</th>\n",
       "      <td>1.562241e+12</td>\n",
       "      <td>1355.950000</td>\n",
       "      <td>2.000000</td>\n",
       "      <td>4.000000</td>\n",
       "      <td>452.550000</td>\n",
       "      <td>0.000000</td>\n",
       "      <td>46.000000</td>\n",
       "      <td>34.000000</td>\n",
       "    </tr>\n",
       "    <tr>\n",
       "      <th>75%</th>\n",
       "      <td>1.562597e+12</td>\n",
       "      <td>4156.850000</td>\n",
       "      <td>210.000000</td>\n",
       "      <td>40.000000</td>\n",
       "      <td>1705.525000</td>\n",
       "      <td>350.000000</td>\n",
       "      <td>46.000000</td>\n",
       "      <td>43.000000</td>\n",
       "    </tr>\n",
       "    <tr>\n",
       "      <th>max</th>\n",
       "      <td>1.562597e+12</td>\n",
       "      <td>376652.377000</td>\n",
       "      <td>55066.000000</td>\n",
       "      <td>3725.000000</td>\n",
       "      <td>45218.250000</td>\n",
       "      <td>22500.000000</td>\n",
       "      <td>1051.000000</td>\n",
       "      <td>2020.000000</td>\n",
       "    </tr>\n",
       "  </tbody>\n",
       "</table>\n",
       "</div>"
      ],
      "text/plain": [
       "           timeline    spend_total     spend_vas     sms_cost   spend_voice  \\\n",
       "count  5.936000e+03    5962.000000   4441.000000  4441.000000   4441.000000   \n",
       "mean   1.561909e+12    4186.080074    263.353637    57.356201   1506.574206   \n",
       "std    8.645238e+08   11597.952072   1078.010972   196.506736   2856.574220   \n",
       "min    1.558113e+12       0.000000      0.000000     0.000000      0.000000   \n",
       "25%    1.561736e+12     273.317499      0.000000     0.000000      0.400000   \n",
       "50%    1.562241e+12    1355.950000      2.000000     4.000000    452.550000   \n",
       "75%    1.562597e+12    4156.850000    210.000000    40.000000   1705.525000   \n",
       "max    1.562597e+12  376652.377000  55066.000000  3725.000000  45218.250000   \n",
       "\n",
       "         spend_data  customer_class          age  \n",
       "count   4441.000000     5962.000000  5962.000000  \n",
       "mean     433.622879       64.135693    41.478698  \n",
       "std     1035.525044       85.590881   106.574919  \n",
       "min        0.000000       19.000000     0.000000  \n",
       "25%        0.000000       44.000000    26.000000  \n",
       "50%        0.000000       46.000000    34.000000  \n",
       "75%      350.000000       46.000000    43.000000  \n",
       "max    22500.000000     1051.000000  2020.000000  "
      ]
     },
     "execution_count": 21,
     "metadata": {},
     "output_type": "execute_result"
    }
   ],
   "source": [
    "test.describe()"
   ]
  },
  {
   "cell_type": "markdown",
   "metadata": {},
   "source": [
    "# 4. Data Preprocessing"
   ]
  },
  {
   "cell_type": "markdown",
   "metadata": {},
   "source": [
    "## Filling Missing Values"
   ]
  },
  {
   "cell_type": "code",
   "execution_count": 22,
   "metadata": {
    "execution": {
     "iopub.execute_input": "2021-11-16T14:17:11.583257Z",
     "iopub.status.busy": "2021-11-16T14:17:11.583020Z",
     "iopub.status.idle": "2021-11-16T14:17:11.597176Z",
     "shell.execute_reply": "2021-11-16T14:17:11.596500Z",
     "shell.execute_reply.started": "2021-11-16T14:17:11.583229Z"
    },
    "id": "graphic-catalyst"
   },
   "outputs": [],
   "source": [
    "#missing numerical values \n",
    "fill_numeric_median(train)\n",
    "fill_numeric_median(test)\n"
   ]
  },
  {
   "cell_type": "code",
   "execution_count": 23,
   "metadata": {
    "execution": {
     "iopub.execute_input": "2021-11-16T14:17:11.599694Z",
     "iopub.status.busy": "2021-11-16T14:17:11.598853Z",
     "iopub.status.idle": "2021-11-16T14:17:11.664504Z",
     "shell.execute_reply": "2021-11-16T14:17:11.663522Z",
     "shell.execute_reply.started": "2021-11-16T14:17:11.599651Z"
    }
   },
   "outputs": [],
   "source": [
    "#missing categorical values \n",
    "fill_my_categoricals(train)\n",
    "fill_my_categoricals(test)"
   ]
  },
  {
   "cell_type": "markdown",
   "metadata": {},
   "source": [
    "## Label Encoding"
   ]
  },
  {
   "cell_type": "code",
   "execution_count": 24,
   "metadata": {
    "execution": {
     "iopub.execute_input": "2021-11-16T14:17:11.666156Z",
     "iopub.status.busy": "2021-11-16T14:17:11.665931Z",
     "iopub.status.idle": "2021-11-16T14:17:12.740851Z",
     "shell.execute_reply": "2021-11-16T14:17:12.739970Z",
     "shell.execute_reply.started": "2021-11-16T14:17:11.666128Z"
    },
    "id": "imported-victory"
   },
   "outputs": [
    {
     "data": {
      "text/html": [
       "<div>\n",
       "<style scoped>\n",
       "    .dataframe tbody tr th:only-of-type {\n",
       "        vertical-align: middle;\n",
       "    }\n",
       "\n",
       "    .dataframe tbody tr th {\n",
       "        vertical-align: top;\n",
       "    }\n",
       "\n",
       "    .dataframe thead th {\n",
       "        text-align: right;\n",
       "    }\n",
       "</style>\n",
       "<table border=\"1\" class=\"dataframe\">\n",
       "  <thead>\n",
       "    <tr style=\"text-align: right;\">\n",
       "      <th></th>\n",
       "      <th>Total NaN</th>\n",
       "      <th>Percent of NaN</th>\n",
       "      <th>Nunique</th>\n",
       "      <th>Dtype</th>\n",
       "    </tr>\n",
       "  </thead>\n",
       "  <tbody>\n",
       "    <tr>\n",
       "      <th>msisdn</th>\n",
       "      <td>0</td>\n",
       "      <td>0.0</td>\n",
       "      <td>18328</td>\n",
       "      <td>object</td>\n",
       "    </tr>\n",
       "    <tr>\n",
       "      <th>age</th>\n",
       "      <td>0</td>\n",
       "      <td>0.0</td>\n",
       "      <td>86</td>\n",
       "      <td>float64</td>\n",
       "    </tr>\n",
       "    <tr>\n",
       "      <th>os_vendor</th>\n",
       "      <td>0</td>\n",
       "      <td>0.0</td>\n",
       "      <td>126</td>\n",
       "      <td>float64</td>\n",
       "    </tr>\n",
       "    <tr>\n",
       "      <th>device_type</th>\n",
       "      <td>0</td>\n",
       "      <td>0.0</td>\n",
       "      <td>3</td>\n",
       "      <td>float64</td>\n",
       "    </tr>\n",
       "    <tr>\n",
       "      <th>device_model</th>\n",
       "      <td>0</td>\n",
       "      <td>0.0</td>\n",
       "      <td>2292</td>\n",
       "      <td>float64</td>\n",
       "    </tr>\n",
       "    <tr>\n",
       "      <th>device_manufacturer</th>\n",
       "      <td>0</td>\n",
       "      <td>0.0</td>\n",
       "      <td>275</td>\n",
       "      <td>float64</td>\n",
       "    </tr>\n",
       "    <tr>\n",
       "      <th>location_lga</th>\n",
       "      <td>0</td>\n",
       "      <td>0.0</td>\n",
       "      <td>660</td>\n",
       "      <td>float64</td>\n",
       "    </tr>\n",
       "    <tr>\n",
       "      <th>location_state</th>\n",
       "      <td>0</td>\n",
       "      <td>0.0</td>\n",
       "      <td>38</td>\n",
       "      <td>float64</td>\n",
       "    </tr>\n",
       "    <tr>\n",
       "      <th>location_region</th>\n",
       "      <td>0</td>\n",
       "      <td>0.0</td>\n",
       "      <td>7</td>\n",
       "      <td>float64</td>\n",
       "    </tr>\n",
       "    <tr>\n",
       "      <th>has_bank</th>\n",
       "      <td>0</td>\n",
       "      <td>0.0</td>\n",
       "      <td>3</td>\n",
       "      <td>float64</td>\n",
       "    </tr>\n",
       "    <tr>\n",
       "      <th>gender</th>\n",
       "      <td>0</td>\n",
       "      <td>0.0</td>\n",
       "      <td>3</td>\n",
       "      <td>float64</td>\n",
       "    </tr>\n",
       "    <tr>\n",
       "      <th>customer_value</th>\n",
       "      <td>0</td>\n",
       "      <td>0.0</td>\n",
       "      <td>6</td>\n",
       "      <td>float64</td>\n",
       "    </tr>\n",
       "    <tr>\n",
       "      <th>timeline</th>\n",
       "      <td>0</td>\n",
       "      <td>0.0</td>\n",
       "      <td>148</td>\n",
       "      <td>float64</td>\n",
       "    </tr>\n",
       "    <tr>\n",
       "      <th>customer_class</th>\n",
       "      <td>0</td>\n",
       "      <td>0.0</td>\n",
       "      <td>27</td>\n",
       "      <td>float64</td>\n",
       "    </tr>\n",
       "    <tr>\n",
       "      <th>spend_data</th>\n",
       "      <td>0</td>\n",
       "      <td>0.0</td>\n",
       "      <td>701</td>\n",
       "      <td>float64</td>\n",
       "    </tr>\n",
       "    <tr>\n",
       "      <th>spend_voice</th>\n",
       "      <td>0</td>\n",
       "      <td>0.0</td>\n",
       "      <td>9830</td>\n",
       "      <td>float64</td>\n",
       "    </tr>\n",
       "    <tr>\n",
       "      <th>sms_cost</th>\n",
       "      <td>0</td>\n",
       "      <td>0.0</td>\n",
       "      <td>889</td>\n",
       "      <td>float64</td>\n",
       "    </tr>\n",
       "    <tr>\n",
       "      <th>spend_vas</th>\n",
       "      <td>0</td>\n",
       "      <td>0.0</td>\n",
       "      <td>841</td>\n",
       "      <td>float64</td>\n",
       "    </tr>\n",
       "    <tr>\n",
       "      <th>spend_total</th>\n",
       "      <td>0</td>\n",
       "      <td>0.0</td>\n",
       "      <td>15342</td>\n",
       "      <td>float64</td>\n",
       "    </tr>\n",
       "    <tr>\n",
       "      <th>ad_text</th>\n",
       "      <td>0</td>\n",
       "      <td>0.0</td>\n",
       "      <td>57</td>\n",
       "      <td>float64</td>\n",
       "    </tr>\n",
       "    <tr>\n",
       "      <th>event_type</th>\n",
       "      <td>0</td>\n",
       "      <td>0.0</td>\n",
       "      <td>2</td>\n",
       "      <td>float64</td>\n",
       "    </tr>\n",
       "    <tr>\n",
       "      <th>timestamp</th>\n",
       "      <td>0</td>\n",
       "      <td>0.0</td>\n",
       "      <td>18504</td>\n",
       "      <td>object</td>\n",
       "    </tr>\n",
       "    <tr>\n",
       "      <th>os_name</th>\n",
       "      <td>0</td>\n",
       "      <td>0.0</td>\n",
       "      <td>90</td>\n",
       "      <td>float64</td>\n",
       "    </tr>\n",
       "  </tbody>\n",
       "</table>\n",
       "</div>"
      ],
      "text/plain": [
       "                     Total NaN  Percent of NaN  Nunique    Dtype\n",
       "msisdn                       0             0.0    18328   object\n",
       "age                          0             0.0       86  float64\n",
       "os_vendor                    0             0.0      126  float64\n",
       "device_type                  0             0.0        3  float64\n",
       "device_model                 0             0.0     2292  float64\n",
       "device_manufacturer          0             0.0      275  float64\n",
       "location_lga                 0             0.0      660  float64\n",
       "location_state               0             0.0       38  float64\n",
       "location_region              0             0.0        7  float64\n",
       "has_bank                     0             0.0        3  float64\n",
       "gender                       0             0.0        3  float64\n",
       "customer_value               0             0.0        6  float64\n",
       "timeline                     0             0.0      148  float64\n",
       "customer_class               0             0.0       27  float64\n",
       "spend_data                   0             0.0      701  float64\n",
       "spend_voice                  0             0.0     9830  float64\n",
       "sms_cost                     0             0.0      889  float64\n",
       "spend_vas                    0             0.0      841  float64\n",
       "spend_total                  0             0.0    15342  float64\n",
       "ad_text                      0             0.0       57  float64\n",
       "event_type                   0             0.0        2  float64\n",
       "timestamp                    0             0.0    18504   object\n",
       "os_name                      0             0.0       90  float64"
      ]
     },
     "metadata": {},
     "output_type": "display_data"
    }
   ],
   "source": [
    "#transforming the 'timeline' columns into gaussian distibution - NOT NEEDED FOR TREE BASED MODELS \n",
    "#train['timeline'] = np.log(train['timeline']).values\n",
    "#test['timeline'] = np.log(test['timeline']).values\n",
    "\n",
    "\n",
    "#label encoding the categorical variables: device_type, gender,customer_value,has_bank,ad_text, [event_type]\n",
    "\n",
    "field_map=[]\n",
    "#manual mapping \n",
    "fields = ['device_type', 'gender','customer_value','has_bank',\n",
    "          'ad_text','location_state','location_region','location_lga',\n",
    "          'os_vendor','os_name','device_model','device_manufacturer']\n",
    "for col in fields:\n",
    "    categories = list(train[col].unique())\n",
    "    \n",
    "    cola = {}\n",
    "    i = 1\n",
    "    for key in categories:\n",
    "        cola[key] = i\n",
    "        i += 1\n",
    "    field_map.append(cola)\n",
    "\n",
    "device_type=field_map[0]\n",
    "gender= field_map[1]\n",
    "customer_value= field_map[2]\n",
    "has_bank= field_map[3]\n",
    "ad_text= field_map[4]\n",
    "location_state=field_map[5]\n",
    "location_region=field_map[6]\n",
    "location_lga=field_map[7]\n",
    "os_vendor=field_map[8]\n",
    "os_name=field_map[9]\n",
    "device_model=field_map[10]\n",
    "device_manufacturer=field_map[10]\n",
    "\n",
    "\n",
    "#transforming for the test and train \n",
    "train.device_type = train.device_type.map(device_type).astype(float)\n",
    "train.gender = train.gender.map(gender).astype(float)\n",
    "train.customer_value = train.customer_value.map(customer_value).astype(float)\n",
    "train.has_bank = train.has_bank.map(has_bank).astype(float)\n",
    "train.ad_text = train.ad_text.map(ad_text).astype(float)\n",
    "\n",
    "test.device_type = test.device_type.map(device_type).astype(float)\n",
    "test.gender = test.gender.map(gender).astype(float)\n",
    "test.customer_value = test.customer_value.map(customer_value).astype(float)\n",
    "test.has_bank = test.has_bank.map(has_bank).astype(float)\n",
    "test.ad_text = test.ad_text.map(ad_text).astype(float)\n",
    "\n",
    "\n",
    "\n",
    "\n",
    "#for far too great classes\n",
    "le = LabelEncoder()\n",
    "for col in (train.drop(['msisdn','timestamp'],axis =1,inplace =False).columns):\n",
    "        if train[col].dtype == 'object':\n",
    "            train[col]=le.fit_transform(train[col]).astype(float)\n",
    "\n",
    "            le = LabelEncoder()\n",
    "for col in (test.drop(['msisdn','timestamp'],axis =1,inplace =False).columns):\n",
    "        if test[col].dtype != 'float64':\n",
    "            test[col]=le.fit_transform(test[col]).astype(float)\n",
    "\n",
    "#remember to fill test too\n",
    "\n",
    "#need to clean the timestamp \n",
    "quality_report(train)"
   ]
  },
  {
   "cell_type": "code",
   "execution_count": 25,
   "metadata": {
    "execution": {
     "iopub.execute_input": "2021-11-16T14:17:12.742452Z",
     "iopub.status.busy": "2021-11-16T14:17:12.742163Z",
     "iopub.status.idle": "2021-11-16T14:17:12.792175Z",
     "shell.execute_reply": "2021-11-16T14:17:12.791339Z",
     "shell.execute_reply.started": "2021-11-16T14:17:12.742421Z"
    }
   },
   "outputs": [
    {
     "data": {
      "text/html": [
       "<div>\n",
       "<style scoped>\n",
       "    .dataframe tbody tr th:only-of-type {\n",
       "        vertical-align: middle;\n",
       "    }\n",
       "\n",
       "    .dataframe tbody tr th {\n",
       "        vertical-align: top;\n",
       "    }\n",
       "\n",
       "    .dataframe thead th {\n",
       "        text-align: right;\n",
       "    }\n",
       "</style>\n",
       "<table border=\"1\" class=\"dataframe\">\n",
       "  <thead>\n",
       "    <tr style=\"text-align: right;\">\n",
       "      <th></th>\n",
       "      <th>msisdn</th>\n",
       "      <th>timeline</th>\n",
       "      <th>timestamp</th>\n",
       "      <th>event_type</th>\n",
       "      <th>ad_text</th>\n",
       "      <th>spend_total</th>\n",
       "      <th>spend_vas</th>\n",
       "      <th>sms_cost</th>\n",
       "      <th>spend_voice</th>\n",
       "      <th>spend_data</th>\n",
       "      <th>customer_class</th>\n",
       "      <th>customer_value</th>\n",
       "      <th>age</th>\n",
       "      <th>gender</th>\n",
       "      <th>has_bank</th>\n",
       "      <th>location_region</th>\n",
       "      <th>location_state</th>\n",
       "      <th>location_lga</th>\n",
       "      <th>device_manufacturer</th>\n",
       "      <th>device_model</th>\n",
       "      <th>device_type</th>\n",
       "      <th>os_vendor</th>\n",
       "      <th>os_name</th>\n",
       "    </tr>\n",
       "  </thead>\n",
       "  <tbody>\n",
       "    <tr>\n",
       "      <th>0</th>\n",
       "      <td>b0c89e6222030d07623bbdfcd802068a</td>\n",
       "      <td>1.560529e+12</td>\n",
       "      <td>2019-07-01 20:01:54+00:00</td>\n",
       "      <td>1.0</td>\n",
       "      <td>1.0</td>\n",
       "      <td>2098.4000</td>\n",
       "      <td>0.0</td>\n",
       "      <td>0.0</td>\n",
       "      <td>0.00</td>\n",
       "      <td>0.0</td>\n",
       "      <td>19.0</td>\n",
       "      <td>1.0</td>\n",
       "      <td>30.0</td>\n",
       "      <td>1.0</td>\n",
       "      <td>1.0</td>\n",
       "      <td>5.0</td>\n",
       "      <td>3.0</td>\n",
       "      <td>527.0</td>\n",
       "      <td>227.0</td>\n",
       "      <td>502.0</td>\n",
       "      <td>1.0</td>\n",
       "      <td>53.0</td>\n",
       "      <td>14.0</td>\n",
       "    </tr>\n",
       "    <tr>\n",
       "      <th>1</th>\n",
       "      <td>8dbe350a0864243bcbcab192c11afb1c</td>\n",
       "      <td>1.561370e+12</td>\n",
       "      <td>2019-07-27 12:45:55+00:00</td>\n",
       "      <td>1.0</td>\n",
       "      <td>2.0</td>\n",
       "      <td>5361.8000</td>\n",
       "      <td>510.0</td>\n",
       "      <td>156.0</td>\n",
       "      <td>2933.86</td>\n",
       "      <td>2000.0</td>\n",
       "      <td>42.0</td>\n",
       "      <td>2.0</td>\n",
       "      <td>33.0</td>\n",
       "      <td>1.0</td>\n",
       "      <td>1.0</td>\n",
       "      <td>6.0</td>\n",
       "      <td>25.0</td>\n",
       "      <td>279.0</td>\n",
       "      <td>173.0</td>\n",
       "      <td>11.0</td>\n",
       "      <td>2.0</td>\n",
       "      <td>108.0</td>\n",
       "      <td>70.0</td>\n",
       "    </tr>\n",
       "    <tr>\n",
       "      <th>2</th>\n",
       "      <td>e9494ef7df151115dd00cb9e0cd75b28</td>\n",
       "      <td>1.559919e+12</td>\n",
       "      <td>2019-06-09 09:13:49</td>\n",
       "      <td>1.0</td>\n",
       "      <td>3.0</td>\n",
       "      <td>6000.2600</td>\n",
       "      <td>240.0</td>\n",
       "      <td>24.0</td>\n",
       "      <td>2545.11</td>\n",
       "      <td>1000.0</td>\n",
       "      <td>46.0</td>\n",
       "      <td>2.0</td>\n",
       "      <td>43.0</td>\n",
       "      <td>1.0</td>\n",
       "      <td>1.0</td>\n",
       "      <td>6.0</td>\n",
       "      <td>25.0</td>\n",
       "      <td>384.0</td>\n",
       "      <td>173.0</td>\n",
       "      <td>88.0</td>\n",
       "      <td>1.0</td>\n",
       "      <td>53.0</td>\n",
       "      <td>14.0</td>\n",
       "    </tr>\n",
       "    <tr>\n",
       "      <th>3</th>\n",
       "      <td>3b17282522ff95f763243d9a87f25e01</td>\n",
       "      <td>1.562241e+12</td>\n",
       "      <td>2019-07-08 17:55:46+00:00</td>\n",
       "      <td>1.0</td>\n",
       "      <td>4.0</td>\n",
       "      <td>4202.0000</td>\n",
       "      <td>0.0</td>\n",
       "      <td>24.0</td>\n",
       "      <td>1098.80</td>\n",
       "      <td>0.0</td>\n",
       "      <td>49.0</td>\n",
       "      <td>1.0</td>\n",
       "      <td>46.0</td>\n",
       "      <td>1.0</td>\n",
       "      <td>1.0</td>\n",
       "      <td>4.0</td>\n",
       "      <td>1.0</td>\n",
       "      <td>2.0</td>\n",
       "      <td>227.0</td>\n",
       "      <td>1311.0</td>\n",
       "      <td>1.0</td>\n",
       "      <td>53.0</td>\n",
       "      <td>14.0</td>\n",
       "    </tr>\n",
       "    <tr>\n",
       "      <th>4</th>\n",
       "      <td>e14725c65cb0a904d83fa6d5990244d6</td>\n",
       "      <td>1.561736e+12</td>\n",
       "      <td>2019-07-03 17:56:12+00:00</td>\n",
       "      <td>1.0</td>\n",
       "      <td>1.0</td>\n",
       "      <td>434.4400</td>\n",
       "      <td>0.0</td>\n",
       "      <td>0.0</td>\n",
       "      <td>0.00</td>\n",
       "      <td>0.0</td>\n",
       "      <td>46.0</td>\n",
       "      <td>3.0</td>\n",
       "      <td>42.0</td>\n",
       "      <td>1.0</td>\n",
       "      <td>1.0</td>\n",
       "      <td>4.0</td>\n",
       "      <td>17.0</td>\n",
       "      <td>545.0</td>\n",
       "      <td>227.0</td>\n",
       "      <td>523.0</td>\n",
       "      <td>1.0</td>\n",
       "      <td>53.0</td>\n",
       "      <td>14.0</td>\n",
       "    </tr>\n",
       "    <tr>\n",
       "      <th>5</th>\n",
       "      <td>f1e1a3a9e5c0493ce20dd9a7b039b37b</td>\n",
       "      <td>1.561370e+12</td>\n",
       "      <td>2019-06-24 16:56:08+00:00</td>\n",
       "      <td>1.0</td>\n",
       "      <td>2.0</td>\n",
       "      <td>2961.8100</td>\n",
       "      <td>0.0</td>\n",
       "      <td>100.0</td>\n",
       "      <td>1583.98</td>\n",
       "      <td>0.0</td>\n",
       "      <td>319.0</td>\n",
       "      <td>1.0</td>\n",
       "      <td>2020.0</td>\n",
       "      <td>1.0</td>\n",
       "      <td>2.0</td>\n",
       "      <td>5.0</td>\n",
       "      <td>33.0</td>\n",
       "      <td>559.0</td>\n",
       "      <td>202.0</td>\n",
       "      <td>1802.0</td>\n",
       "      <td>1.0</td>\n",
       "      <td>100.0</td>\n",
       "      <td>61.0</td>\n",
       "    </tr>\n",
       "    <tr>\n",
       "      <th>6</th>\n",
       "      <td>04713af0f76196b13b1503054b263988</td>\n",
       "      <td>1.562597e+12</td>\n",
       "      <td>2019-07-12 19:30:57+00:00</td>\n",
       "      <td>1.0</td>\n",
       "      <td>4.0</td>\n",
       "      <td>2948.1195</td>\n",
       "      <td>160.0</td>\n",
       "      <td>0.0</td>\n",
       "      <td>1055.20</td>\n",
       "      <td>0.0</td>\n",
       "      <td>44.0</td>\n",
       "      <td>1.0</td>\n",
       "      <td>30.0</td>\n",
       "      <td>1.0</td>\n",
       "      <td>1.0</td>\n",
       "      <td>6.0</td>\n",
       "      <td>25.0</td>\n",
       "      <td>43.0</td>\n",
       "      <td>260.0</td>\n",
       "      <td>1727.0</td>\n",
       "      <td>1.0</td>\n",
       "      <td>53.0</td>\n",
       "      <td>14.0</td>\n",
       "    </tr>\n",
       "    <tr>\n",
       "      <th>7</th>\n",
       "      <td>dc444cc5da68b577da28fb2e9c998b31</td>\n",
       "      <td>1.562241e+12</td>\n",
       "      <td>2019-07-07 16:22:16+00:00</td>\n",
       "      <td>1.0</td>\n",
       "      <td>4.0</td>\n",
       "      <td>12769.6400</td>\n",
       "      <td>1541.0</td>\n",
       "      <td>0.0</td>\n",
       "      <td>1268.50</td>\n",
       "      <td>0.0</td>\n",
       "      <td>44.0</td>\n",
       "      <td>4.0</td>\n",
       "      <td>31.0</td>\n",
       "      <td>1.0</td>\n",
       "      <td>1.0</td>\n",
       "      <td>3.0</td>\n",
       "      <td>34.0</td>\n",
       "      <td>600.0</td>\n",
       "      <td>23.0</td>\n",
       "      <td>1765.0</td>\n",
       "      <td>2.0</td>\n",
       "      <td>93.0</td>\n",
       "      <td>57.0</td>\n",
       "    </tr>\n",
       "    <tr>\n",
       "      <th>8</th>\n",
       "      <td>cdbabe11ed501e04b0c3a0fed58806f1</td>\n",
       "      <td>1.562241e+12</td>\n",
       "      <td>2019-07-07 05:19:08+00:00</td>\n",
       "      <td>1.0</td>\n",
       "      <td>4.0</td>\n",
       "      <td>200.0000</td>\n",
       "      <td>20.0</td>\n",
       "      <td>4.0</td>\n",
       "      <td>570.24</td>\n",
       "      <td>0.0</td>\n",
       "      <td>46.0</td>\n",
       "      <td>5.0</td>\n",
       "      <td>33.0</td>\n",
       "      <td>1.0</td>\n",
       "      <td>1.0</td>\n",
       "      <td>6.0</td>\n",
       "      <td>30.0</td>\n",
       "      <td>146.0</td>\n",
       "      <td>227.0</td>\n",
       "      <td>1659.0</td>\n",
       "      <td>1.0</td>\n",
       "      <td>53.0</td>\n",
       "      <td>14.0</td>\n",
       "    </tr>\n",
       "    <tr>\n",
       "      <th>9</th>\n",
       "      <td>b0afeb52e166d7d6314ba57a166e682a</td>\n",
       "      <td>1.558969e+12</td>\n",
       "      <td>2019-05-31 07:26:28</td>\n",
       "      <td>1.0</td>\n",
       "      <td>5.0</td>\n",
       "      <td>8155.4090</td>\n",
       "      <td>260.0</td>\n",
       "      <td>0.0</td>\n",
       "      <td>225.90</td>\n",
       "      <td>2000.0</td>\n",
       "      <td>49.0</td>\n",
       "      <td>2.0</td>\n",
       "      <td>53.0</td>\n",
       "      <td>1.0</td>\n",
       "      <td>1.0</td>\n",
       "      <td>6.0</td>\n",
       "      <td>25.0</td>\n",
       "      <td>592.0</td>\n",
       "      <td>123.0</td>\n",
       "      <td>230.0</td>\n",
       "      <td>1.0</td>\n",
       "      <td>53.0</td>\n",
       "      <td>14.0</td>\n",
       "    </tr>\n",
       "  </tbody>\n",
       "</table>\n",
       "</div>"
      ],
      "text/plain": [
       "                             msisdn      timeline                  timestamp  \\\n",
       "0  b0c89e6222030d07623bbdfcd802068a  1.560529e+12  2019-07-01 20:01:54+00:00   \n",
       "1  8dbe350a0864243bcbcab192c11afb1c  1.561370e+12  2019-07-27 12:45:55+00:00   \n",
       "2  e9494ef7df151115dd00cb9e0cd75b28  1.559919e+12        2019-06-09 09:13:49   \n",
       "3  3b17282522ff95f763243d9a87f25e01  1.562241e+12  2019-07-08 17:55:46+00:00   \n",
       "4  e14725c65cb0a904d83fa6d5990244d6  1.561736e+12  2019-07-03 17:56:12+00:00   \n",
       "5  f1e1a3a9e5c0493ce20dd9a7b039b37b  1.561370e+12  2019-06-24 16:56:08+00:00   \n",
       "6  04713af0f76196b13b1503054b263988  1.562597e+12  2019-07-12 19:30:57+00:00   \n",
       "7  dc444cc5da68b577da28fb2e9c998b31  1.562241e+12  2019-07-07 16:22:16+00:00   \n",
       "8  cdbabe11ed501e04b0c3a0fed58806f1  1.562241e+12  2019-07-07 05:19:08+00:00   \n",
       "9  b0afeb52e166d7d6314ba57a166e682a  1.558969e+12        2019-05-31 07:26:28   \n",
       "\n",
       "   event_type  ad_text  spend_total  spend_vas  sms_cost  spend_voice  \\\n",
       "0         1.0      1.0    2098.4000        0.0       0.0         0.00   \n",
       "1         1.0      2.0    5361.8000      510.0     156.0      2933.86   \n",
       "2         1.0      3.0    6000.2600      240.0      24.0      2545.11   \n",
       "3         1.0      4.0    4202.0000        0.0      24.0      1098.80   \n",
       "4         1.0      1.0     434.4400        0.0       0.0         0.00   \n",
       "5         1.0      2.0    2961.8100        0.0     100.0      1583.98   \n",
       "6         1.0      4.0    2948.1195      160.0       0.0      1055.20   \n",
       "7         1.0      4.0   12769.6400     1541.0       0.0      1268.50   \n",
       "8         1.0      4.0     200.0000       20.0       4.0       570.24   \n",
       "9         1.0      5.0    8155.4090      260.0       0.0       225.90   \n",
       "\n",
       "   spend_data  customer_class  customer_value     age  gender  has_bank  \\\n",
       "0         0.0            19.0             1.0    30.0     1.0       1.0   \n",
       "1      2000.0            42.0             2.0    33.0     1.0       1.0   \n",
       "2      1000.0            46.0             2.0    43.0     1.0       1.0   \n",
       "3         0.0            49.0             1.0    46.0     1.0       1.0   \n",
       "4         0.0            46.0             3.0    42.0     1.0       1.0   \n",
       "5         0.0           319.0             1.0  2020.0     1.0       2.0   \n",
       "6         0.0            44.0             1.0    30.0     1.0       1.0   \n",
       "7         0.0            44.0             4.0    31.0     1.0       1.0   \n",
       "8         0.0            46.0             5.0    33.0     1.0       1.0   \n",
       "9      2000.0            49.0             2.0    53.0     1.0       1.0   \n",
       "\n",
       "   location_region  location_state  location_lga  device_manufacturer  \\\n",
       "0              5.0             3.0         527.0                227.0   \n",
       "1              6.0            25.0         279.0                173.0   \n",
       "2              6.0            25.0         384.0                173.0   \n",
       "3              4.0             1.0           2.0                227.0   \n",
       "4              4.0            17.0         545.0                227.0   \n",
       "5              5.0            33.0         559.0                202.0   \n",
       "6              6.0            25.0          43.0                260.0   \n",
       "7              3.0            34.0         600.0                 23.0   \n",
       "8              6.0            30.0         146.0                227.0   \n",
       "9              6.0            25.0         592.0                123.0   \n",
       "\n",
       "   device_model  device_type  os_vendor  os_name  \n",
       "0         502.0          1.0       53.0     14.0  \n",
       "1          11.0          2.0      108.0     70.0  \n",
       "2          88.0          1.0       53.0     14.0  \n",
       "3        1311.0          1.0       53.0     14.0  \n",
       "4         523.0          1.0       53.0     14.0  \n",
       "5        1802.0          1.0      100.0     61.0  \n",
       "6        1727.0          1.0       53.0     14.0  \n",
       "7        1765.0          2.0       93.0     57.0  \n",
       "8        1659.0          1.0       53.0     14.0  \n",
       "9         230.0          1.0       53.0     14.0  "
      ]
     },
     "execution_count": 25,
     "metadata": {},
     "output_type": "execute_result"
    }
   ],
   "source": [
    "\n",
    "train.head(10)"
   ]
  },
  {
   "cell_type": "markdown",
   "metadata": {},
   "source": [
    "## Extracting date features"
   ]
  },
  {
   "cell_type": "code",
   "execution_count": 26,
   "metadata": {
    "execution": {
     "iopub.execute_input": "2021-11-16T14:17:12.793784Z",
     "iopub.status.busy": "2021-11-16T14:17:12.793554Z",
     "iopub.status.idle": "2021-11-16T14:17:12.906228Z",
     "shell.execute_reply": "2021-11-16T14:17:12.905232Z",
     "shell.execute_reply.started": "2021-11-16T14:17:12.793757Z"
    }
   },
   "outputs": [
    {
     "name": "stdout",
     "output_type": "stream",
     "text": [
      "The newest customer's enrolment date in therecords: 2020-12-24\n",
      "The oldest customer's enrolment date in the records: 2019-05-18\n"
     ]
    }
   ],
   "source": [
    "#for dates - train\n",
    "train[\"timestamp\"] = pd.to_datetime(train[\"timestamp\"],utc =True)\n",
    "\n",
    "dates = []\n",
    "for i in train[\"timestamp\"]:\n",
    "    i = i.date()\n",
    "    dates.append(i)  \n",
    "#Dates of the newest and oldest recorded customer\n",
    "print(\"The newest customer's enrolment date in therecords:\",max(dates))\n",
    "print(\"The oldest customer's enrolment date in the records:\",min(dates))\n",
    "\n",
    "#for dates - test\n",
    "test[\"timestamp\"] = pd.to_datetime(test[\"timestamp\"],utc =True)\n",
    "\n",
    "\n"
   ]
  },
  {
   "cell_type": "code",
   "execution_count": 27,
   "metadata": {
    "execution": {
     "iopub.execute_input": "2021-11-16T14:17:12.907811Z",
     "iopub.status.busy": "2021-11-16T14:17:12.907559Z",
     "iopub.status.idle": "2021-11-16T14:17:13.810309Z",
     "shell.execute_reply": "2021-11-16T14:17:13.809310Z",
     "shell.execute_reply.started": "2021-11-16T14:17:12.907780Z"
    }
   },
   "outputs": [
    {
     "data": {
      "text/html": [
       "<div>\n",
       "<style scoped>\n",
       "    .dataframe tbody tr th:only-of-type {\n",
       "        vertical-align: middle;\n",
       "    }\n",
       "\n",
       "    .dataframe tbody tr th {\n",
       "        vertical-align: top;\n",
       "    }\n",
       "\n",
       "    .dataframe thead th {\n",
       "        text-align: right;\n",
       "    }\n",
       "</style>\n",
       "<table border=\"1\" class=\"dataframe\">\n",
       "  <thead>\n",
       "    <tr style=\"text-align: right;\">\n",
       "      <th></th>\n",
       "      <th>Total NaN</th>\n",
       "      <th>Percent of NaN</th>\n",
       "      <th>Nunique</th>\n",
       "      <th>Dtype</th>\n",
       "    </tr>\n",
       "  </thead>\n",
       "  <tbody>\n",
       "    <tr>\n",
       "      <th>msisdn</th>\n",
       "      <td>0</td>\n",
       "      <td>0.0</td>\n",
       "      <td>18328</td>\n",
       "      <td>object</td>\n",
       "    </tr>\n",
       "    <tr>\n",
       "      <th>age</th>\n",
       "      <td>0</td>\n",
       "      <td>0.0</td>\n",
       "      <td>86</td>\n",
       "      <td>float64</td>\n",
       "    </tr>\n",
       "    <tr>\n",
       "      <th>os_vendor</th>\n",
       "      <td>0</td>\n",
       "      <td>0.0</td>\n",
       "      <td>126</td>\n",
       "      <td>float64</td>\n",
       "    </tr>\n",
       "    <tr>\n",
       "      <th>device_type</th>\n",
       "      <td>0</td>\n",
       "      <td>0.0</td>\n",
       "      <td>3</td>\n",
       "      <td>float64</td>\n",
       "    </tr>\n",
       "    <tr>\n",
       "      <th>device_model</th>\n",
       "      <td>0</td>\n",
       "      <td>0.0</td>\n",
       "      <td>2292</td>\n",
       "      <td>float64</td>\n",
       "    </tr>\n",
       "    <tr>\n",
       "      <th>device_manufacturer</th>\n",
       "      <td>0</td>\n",
       "      <td>0.0</td>\n",
       "      <td>275</td>\n",
       "      <td>float64</td>\n",
       "    </tr>\n",
       "    <tr>\n",
       "      <th>location_lga</th>\n",
       "      <td>0</td>\n",
       "      <td>0.0</td>\n",
       "      <td>660</td>\n",
       "      <td>float64</td>\n",
       "    </tr>\n",
       "    <tr>\n",
       "      <th>location_state</th>\n",
       "      <td>0</td>\n",
       "      <td>0.0</td>\n",
       "      <td>38</td>\n",
       "      <td>float64</td>\n",
       "    </tr>\n",
       "    <tr>\n",
       "      <th>location_region</th>\n",
       "      <td>0</td>\n",
       "      <td>0.0</td>\n",
       "      <td>7</td>\n",
       "      <td>float64</td>\n",
       "    </tr>\n",
       "    <tr>\n",
       "      <th>has_bank</th>\n",
       "      <td>0</td>\n",
       "      <td>0.0</td>\n",
       "      <td>3</td>\n",
       "      <td>float64</td>\n",
       "    </tr>\n",
       "    <tr>\n",
       "      <th>gender</th>\n",
       "      <td>0</td>\n",
       "      <td>0.0</td>\n",
       "      <td>3</td>\n",
       "      <td>float64</td>\n",
       "    </tr>\n",
       "    <tr>\n",
       "      <th>customer_value</th>\n",
       "      <td>0</td>\n",
       "      <td>0.0</td>\n",
       "      <td>6</td>\n",
       "      <td>float64</td>\n",
       "    </tr>\n",
       "    <tr>\n",
       "      <th>timeline</th>\n",
       "      <td>0</td>\n",
       "      <td>0.0</td>\n",
       "      <td>148</td>\n",
       "      <td>float64</td>\n",
       "    </tr>\n",
       "    <tr>\n",
       "      <th>customer_class</th>\n",
       "      <td>0</td>\n",
       "      <td>0.0</td>\n",
       "      <td>27</td>\n",
       "      <td>float64</td>\n",
       "    </tr>\n",
       "    <tr>\n",
       "      <th>spend_data</th>\n",
       "      <td>0</td>\n",
       "      <td>0.0</td>\n",
       "      <td>701</td>\n",
       "      <td>float64</td>\n",
       "    </tr>\n",
       "    <tr>\n",
       "      <th>spend_voice</th>\n",
       "      <td>0</td>\n",
       "      <td>0.0</td>\n",
       "      <td>9830</td>\n",
       "      <td>float64</td>\n",
       "    </tr>\n",
       "    <tr>\n",
       "      <th>sms_cost</th>\n",
       "      <td>0</td>\n",
       "      <td>0.0</td>\n",
       "      <td>889</td>\n",
       "      <td>float64</td>\n",
       "    </tr>\n",
       "    <tr>\n",
       "      <th>spend_vas</th>\n",
       "      <td>0</td>\n",
       "      <td>0.0</td>\n",
       "      <td>841</td>\n",
       "      <td>float64</td>\n",
       "    </tr>\n",
       "    <tr>\n",
       "      <th>spend_total</th>\n",
       "      <td>0</td>\n",
       "      <td>0.0</td>\n",
       "      <td>15342</td>\n",
       "      <td>float64</td>\n",
       "    </tr>\n",
       "    <tr>\n",
       "      <th>ad_text</th>\n",
       "      <td>0</td>\n",
       "      <td>0.0</td>\n",
       "      <td>57</td>\n",
       "      <td>float64</td>\n",
       "    </tr>\n",
       "    <tr>\n",
       "      <th>event_type</th>\n",
       "      <td>0</td>\n",
       "      <td>0.0</td>\n",
       "      <td>2</td>\n",
       "      <td>float64</td>\n",
       "    </tr>\n",
       "    <tr>\n",
       "      <th>timestamp</th>\n",
       "      <td>0</td>\n",
       "      <td>0.0</td>\n",
       "      <td>18504</td>\n",
       "      <td>datetime64[ns, UTC]</td>\n",
       "    </tr>\n",
       "    <tr>\n",
       "      <th>os_name</th>\n",
       "      <td>0</td>\n",
       "      <td>0.0</td>\n",
       "      <td>90</td>\n",
       "      <td>float64</td>\n",
       "    </tr>\n",
       "  </tbody>\n",
       "</table>\n",
       "</div>"
      ],
      "text/plain": [
       "                     Total NaN  Percent of NaN  Nunique                Dtype\n",
       "msisdn                       0             0.0    18328               object\n",
       "age                          0             0.0       86              float64\n",
       "os_vendor                    0             0.0      126              float64\n",
       "device_type                  0             0.0        3              float64\n",
       "device_model                 0             0.0     2292              float64\n",
       "device_manufacturer          0             0.0      275              float64\n",
       "location_lga                 0             0.0      660              float64\n",
       "location_state               0             0.0       38              float64\n",
       "location_region              0             0.0        7              float64\n",
       "has_bank                     0             0.0        3              float64\n",
       "gender                       0             0.0        3              float64\n",
       "customer_value               0             0.0        6              float64\n",
       "timeline                     0             0.0      148              float64\n",
       "customer_class               0             0.0       27              float64\n",
       "spend_data                   0             0.0      701              float64\n",
       "spend_voice                  0             0.0     9830              float64\n",
       "sms_cost                     0             0.0      889              float64\n",
       "spend_vas                    0             0.0      841              float64\n",
       "spend_total                  0             0.0    15342              float64\n",
       "ad_text                      0             0.0       57              float64\n",
       "event_type                   0             0.0        2              float64\n",
       "timestamp                    0             0.0    18504  datetime64[ns, UTC]\n",
       "os_name                      0             0.0       90              float64"
      ]
     },
     "metadata": {},
     "output_type": "display_data"
    }
   ],
   "source": [
    "quality_report(train)"
   ]
  },
  {
   "cell_type": "code",
   "execution_count": 28,
   "metadata": {
    "execution": {
     "iopub.execute_input": "2021-11-16T14:17:13.812156Z",
     "iopub.status.busy": "2021-11-16T14:17:13.811919Z",
     "iopub.status.idle": "2021-11-16T14:17:13.843637Z",
     "shell.execute_reply": "2021-11-16T14:17:13.842527Z",
     "shell.execute_reply.started": "2021-11-16T14:17:13.812126Z"
    }
   },
   "outputs": [
    {
     "data": {
      "text/html": [
       "<div>\n",
       "<style scoped>\n",
       "    .dataframe tbody tr th:only-of-type {\n",
       "        vertical-align: middle;\n",
       "    }\n",
       "\n",
       "    .dataframe tbody tr th {\n",
       "        vertical-align: top;\n",
       "    }\n",
       "\n",
       "    .dataframe thead th {\n",
       "        text-align: right;\n",
       "    }\n",
       "</style>\n",
       "<table border=\"1\" class=\"dataframe\">\n",
       "  <thead>\n",
       "    <tr style=\"text-align: right;\">\n",
       "      <th></th>\n",
       "      <th>msisdn</th>\n",
       "      <th>timeline</th>\n",
       "      <th>timestamp</th>\n",
       "      <th>event_type</th>\n",
       "      <th>ad_text</th>\n",
       "      <th>spend_total</th>\n",
       "      <th>spend_vas</th>\n",
       "      <th>sms_cost</th>\n",
       "      <th>spend_voice</th>\n",
       "      <th>spend_data</th>\n",
       "      <th>customer_class</th>\n",
       "      <th>customer_value</th>\n",
       "      <th>age</th>\n",
       "      <th>gender</th>\n",
       "      <th>has_bank</th>\n",
       "      <th>location_region</th>\n",
       "      <th>location_state</th>\n",
       "      <th>location_lga</th>\n",
       "      <th>device_manufacturer</th>\n",
       "      <th>device_model</th>\n",
       "      <th>device_type</th>\n",
       "      <th>os_vendor</th>\n",
       "      <th>os_name</th>\n",
       "    </tr>\n",
       "  </thead>\n",
       "  <tbody>\n",
       "    <tr>\n",
       "      <th>0</th>\n",
       "      <td>b0c89e6222030d07623bbdfcd802068a</td>\n",
       "      <td>1.560529e+12</td>\n",
       "      <td>2019-07-01 20:01:54+00:00</td>\n",
       "      <td>1.0</td>\n",
       "      <td>1.0</td>\n",
       "      <td>2098.40</td>\n",
       "      <td>0.0</td>\n",
       "      <td>0.0</td>\n",
       "      <td>0.00</td>\n",
       "      <td>0.0</td>\n",
       "      <td>19.0</td>\n",
       "      <td>1.0</td>\n",
       "      <td>30.0</td>\n",
       "      <td>1.0</td>\n",
       "      <td>1.0</td>\n",
       "      <td>5.0</td>\n",
       "      <td>3.0</td>\n",
       "      <td>527.0</td>\n",
       "      <td>227.0</td>\n",
       "      <td>502.0</td>\n",
       "      <td>1.0</td>\n",
       "      <td>53.0</td>\n",
       "      <td>14.0</td>\n",
       "    </tr>\n",
       "    <tr>\n",
       "      <th>1</th>\n",
       "      <td>8dbe350a0864243bcbcab192c11afb1c</td>\n",
       "      <td>1.561370e+12</td>\n",
       "      <td>2019-07-27 12:45:55+00:00</td>\n",
       "      <td>1.0</td>\n",
       "      <td>2.0</td>\n",
       "      <td>5361.80</td>\n",
       "      <td>510.0</td>\n",
       "      <td>156.0</td>\n",
       "      <td>2933.86</td>\n",
       "      <td>2000.0</td>\n",
       "      <td>42.0</td>\n",
       "      <td>2.0</td>\n",
       "      <td>33.0</td>\n",
       "      <td>1.0</td>\n",
       "      <td>1.0</td>\n",
       "      <td>6.0</td>\n",
       "      <td>25.0</td>\n",
       "      <td>279.0</td>\n",
       "      <td>173.0</td>\n",
       "      <td>11.0</td>\n",
       "      <td>2.0</td>\n",
       "      <td>108.0</td>\n",
       "      <td>70.0</td>\n",
       "    </tr>\n",
       "    <tr>\n",
       "      <th>2</th>\n",
       "      <td>e9494ef7df151115dd00cb9e0cd75b28</td>\n",
       "      <td>1.559919e+12</td>\n",
       "      <td>2019-06-09 09:13:49+00:00</td>\n",
       "      <td>1.0</td>\n",
       "      <td>3.0</td>\n",
       "      <td>6000.26</td>\n",
       "      <td>240.0</td>\n",
       "      <td>24.0</td>\n",
       "      <td>2545.11</td>\n",
       "      <td>1000.0</td>\n",
       "      <td>46.0</td>\n",
       "      <td>2.0</td>\n",
       "      <td>43.0</td>\n",
       "      <td>1.0</td>\n",
       "      <td>1.0</td>\n",
       "      <td>6.0</td>\n",
       "      <td>25.0</td>\n",
       "      <td>384.0</td>\n",
       "      <td>173.0</td>\n",
       "      <td>88.0</td>\n",
       "      <td>1.0</td>\n",
       "      <td>53.0</td>\n",
       "      <td>14.0</td>\n",
       "    </tr>\n",
       "  </tbody>\n",
       "</table>\n",
       "</div>"
      ],
      "text/plain": [
       "                             msisdn      timeline                 timestamp  \\\n",
       "0  b0c89e6222030d07623bbdfcd802068a  1.560529e+12 2019-07-01 20:01:54+00:00   \n",
       "1  8dbe350a0864243bcbcab192c11afb1c  1.561370e+12 2019-07-27 12:45:55+00:00   \n",
       "2  e9494ef7df151115dd00cb9e0cd75b28  1.559919e+12 2019-06-09 09:13:49+00:00   \n",
       "\n",
       "   event_type  ad_text  spend_total  spend_vas  sms_cost  spend_voice  \\\n",
       "0         1.0      1.0      2098.40        0.0       0.0         0.00   \n",
       "1         1.0      2.0      5361.80      510.0     156.0      2933.86   \n",
       "2         1.0      3.0      6000.26      240.0      24.0      2545.11   \n",
       "\n",
       "   spend_data  customer_class  customer_value   age  gender  has_bank  \\\n",
       "0         0.0            19.0             1.0  30.0     1.0       1.0   \n",
       "1      2000.0            42.0             2.0  33.0     1.0       1.0   \n",
       "2      1000.0            46.0             2.0  43.0     1.0       1.0   \n",
       "\n",
       "   location_region  location_state  location_lga  device_manufacturer  \\\n",
       "0              5.0             3.0         527.0                227.0   \n",
       "1              6.0            25.0         279.0                173.0   \n",
       "2              6.0            25.0         384.0                173.0   \n",
       "\n",
       "   device_model  device_type  os_vendor  os_name  \n",
       "0         502.0          1.0       53.0     14.0  \n",
       "1          11.0          2.0      108.0     70.0  \n",
       "2          88.0          1.0       53.0     14.0  "
      ]
     },
     "execution_count": 28,
     "metadata": {},
     "output_type": "execute_result"
    }
   ],
   "source": [
    "train.head(3)"
   ]
  },
  {
   "cell_type": "code",
   "execution_count": 29,
   "metadata": {
    "execution": {
     "iopub.execute_input": "2021-11-16T14:17:13.851385Z",
     "iopub.status.busy": "2021-11-16T14:17:13.850759Z",
     "iopub.status.idle": "2021-11-16T14:17:13.858311Z",
     "shell.execute_reply": "2021-11-16T14:17:13.857328Z",
     "shell.execute_reply.started": "2021-11-16T14:17:13.851337Z"
    },
    "id": "computational-cornwall",
    "outputId": "dd22728c-efd2-4f60-cbc6-13ffc828573f"
   },
   "outputs": [
    {
     "data": {
      "text/plain": [
       "Index(['msisdn', 'timeline', 'timestamp', 'ad_text', 'spend_total',\n",
       "       'spend_vas', 'sms_cost', 'spend_voice', 'spend_data', 'customer_class',\n",
       "       'customer_value', 'age', 'gender', 'has_bank', 'location_region',\n",
       "       'location_state', 'location_lga', 'device_manufacturer', 'device_model',\n",
       "       'device_type', 'os_vendor', 'os_name'],\n",
       "      dtype='object')"
      ]
     },
     "execution_count": 29,
     "metadata": {},
     "output_type": "execute_result"
    }
   ],
   "source": [
    "test.columns"
   ]
  },
  {
   "cell_type": "code",
   "execution_count": 30,
   "metadata": {
    "execution": {
     "iopub.execute_input": "2021-11-16T14:17:13.861647Z",
     "iopub.status.busy": "2021-11-16T14:17:13.859666Z",
     "iopub.status.idle": "2021-11-16T14:17:13.872425Z",
     "shell.execute_reply": "2021-11-16T14:17:13.871460Z",
     "shell.execute_reply.started": "2021-11-16T14:17:13.861596Z"
    },
    "id": "corporate-excerpt",
    "outputId": "d9766b12-76cc-481a-9e00-a2c80002c760"
   },
   "outputs": [
    {
     "data": {
      "text/plain": [
       "Index(['msisdn', 'timeline', 'timestamp', 'event_type', 'ad_text',\n",
       "       'spend_total', 'spend_vas', 'sms_cost', 'spend_voice', 'spend_data',\n",
       "       'customer_class', 'customer_value', 'age', 'gender', 'has_bank',\n",
       "       'location_region', 'location_state', 'location_lga',\n",
       "       'device_manufacturer', 'device_model', 'device_type', 'os_vendor',\n",
       "       'os_name'],\n",
       "      dtype='object')"
      ]
     },
     "execution_count": 30,
     "metadata": {},
     "output_type": "execute_result"
    }
   ],
   "source": [
    "train.columns"
   ]
  },
  {
   "cell_type": "markdown",
   "metadata": {},
   "source": [
    "## Merging both test and train datasets for uniform feature engineering"
   ]
  },
  {
   "cell_type": "code",
   "execution_count": 31,
   "metadata": {
    "execution": {
     "iopub.execute_input": "2021-11-16T14:17:13.874495Z",
     "iopub.status.busy": "2021-11-16T14:17:13.874124Z",
     "iopub.status.idle": "2021-11-16T14:17:13.899870Z",
     "shell.execute_reply": "2021-11-16T14:17:13.898793Z",
     "shell.execute_reply.started": "2021-11-16T14:17:13.874449Z"
    },
    "id": "technological-portfolio"
   },
   "outputs": [],
   "source": [
    "\n",
    "test['event_type'] = 'test'\n",
    "data = pd.concat([train, test]).reset_index(drop = True)\n",
    "\n",
    "#data[65589:65594]"
   ]
  },
  {
   "cell_type": "code",
   "execution_count": 32,
   "metadata": {
    "execution": {
     "iopub.execute_input": "2021-11-16T14:17:13.901367Z",
     "iopub.status.busy": "2021-11-16T14:17:13.901067Z",
     "iopub.status.idle": "2021-11-16T14:17:15.237427Z",
     "shell.execute_reply": "2021-11-16T14:17:15.236549Z",
     "shell.execute_reply.started": "2021-11-16T14:17:13.901312Z"
    }
   },
   "outputs": [
    {
     "data": {
      "text/html": [
       "<div>\n",
       "<style scoped>\n",
       "    .dataframe tbody tr th:only-of-type {\n",
       "        vertical-align: middle;\n",
       "    }\n",
       "\n",
       "    .dataframe tbody tr th {\n",
       "        vertical-align: top;\n",
       "    }\n",
       "\n",
       "    .dataframe thead th {\n",
       "        text-align: right;\n",
       "    }\n",
       "</style>\n",
       "<table border=\"1\" class=\"dataframe\">\n",
       "  <thead>\n",
       "    <tr style=\"text-align: right;\">\n",
       "      <th></th>\n",
       "      <th>Total NaN</th>\n",
       "      <th>Percent of NaN</th>\n",
       "      <th>Nunique</th>\n",
       "      <th>Dtype</th>\n",
       "    </tr>\n",
       "  </thead>\n",
       "  <tbody>\n",
       "    <tr>\n",
       "      <th>ad_text</th>\n",
       "      <td>1</td>\n",
       "      <td>0.004034</td>\n",
       "      <td>57</td>\n",
       "      <td>float64</td>\n",
       "    </tr>\n",
       "    <tr>\n",
       "      <th>msisdn</th>\n",
       "      <td>0</td>\n",
       "      <td>0.000000</td>\n",
       "      <td>22779</td>\n",
       "      <td>object</td>\n",
       "    </tr>\n",
       "    <tr>\n",
       "      <th>age</th>\n",
       "      <td>0</td>\n",
       "      <td>0.000000</td>\n",
       "      <td>90</td>\n",
       "      <td>float64</td>\n",
       "    </tr>\n",
       "    <tr>\n",
       "      <th>os_vendor</th>\n",
       "      <td>0</td>\n",
       "      <td>0.000000</td>\n",
       "      <td>126</td>\n",
       "      <td>float64</td>\n",
       "    </tr>\n",
       "    <tr>\n",
       "      <th>device_type</th>\n",
       "      <td>0</td>\n",
       "      <td>0.000000</td>\n",
       "      <td>3</td>\n",
       "      <td>float64</td>\n",
       "    </tr>\n",
       "    <tr>\n",
       "      <th>device_model</th>\n",
       "      <td>0</td>\n",
       "      <td>0.000000</td>\n",
       "      <td>2292</td>\n",
       "      <td>float64</td>\n",
       "    </tr>\n",
       "    <tr>\n",
       "      <th>device_manufacturer</th>\n",
       "      <td>0</td>\n",
       "      <td>0.000000</td>\n",
       "      <td>275</td>\n",
       "      <td>float64</td>\n",
       "    </tr>\n",
       "    <tr>\n",
       "      <th>location_lga</th>\n",
       "      <td>0</td>\n",
       "      <td>0.000000</td>\n",
       "      <td>660</td>\n",
       "      <td>float64</td>\n",
       "    </tr>\n",
       "    <tr>\n",
       "      <th>location_state</th>\n",
       "      <td>0</td>\n",
       "      <td>0.000000</td>\n",
       "      <td>38</td>\n",
       "      <td>float64</td>\n",
       "    </tr>\n",
       "    <tr>\n",
       "      <th>location_region</th>\n",
       "      <td>0</td>\n",
       "      <td>0.000000</td>\n",
       "      <td>7</td>\n",
       "      <td>float64</td>\n",
       "    </tr>\n",
       "    <tr>\n",
       "      <th>has_bank</th>\n",
       "      <td>0</td>\n",
       "      <td>0.000000</td>\n",
       "      <td>3</td>\n",
       "      <td>float64</td>\n",
       "    </tr>\n",
       "    <tr>\n",
       "      <th>gender</th>\n",
       "      <td>0</td>\n",
       "      <td>0.000000</td>\n",
       "      <td>3</td>\n",
       "      <td>float64</td>\n",
       "    </tr>\n",
       "    <tr>\n",
       "      <th>customer_value</th>\n",
       "      <td>0</td>\n",
       "      <td>0.000000</td>\n",
       "      <td>6</td>\n",
       "      <td>float64</td>\n",
       "    </tr>\n",
       "    <tr>\n",
       "      <th>timeline</th>\n",
       "      <td>0</td>\n",
       "      <td>0.000000</td>\n",
       "      <td>150</td>\n",
       "      <td>float64</td>\n",
       "    </tr>\n",
       "    <tr>\n",
       "      <th>customer_class</th>\n",
       "      <td>0</td>\n",
       "      <td>0.000000</td>\n",
       "      <td>28</td>\n",
       "      <td>float64</td>\n",
       "    </tr>\n",
       "    <tr>\n",
       "      <th>spend_data</th>\n",
       "      <td>0</td>\n",
       "      <td>0.000000</td>\n",
       "      <td>817</td>\n",
       "      <td>float64</td>\n",
       "    </tr>\n",
       "    <tr>\n",
       "      <th>spend_voice</th>\n",
       "      <td>0</td>\n",
       "      <td>0.000000</td>\n",
       "      <td>11960</td>\n",
       "      <td>float64</td>\n",
       "    </tr>\n",
       "    <tr>\n",
       "      <th>sms_cost</th>\n",
       "      <td>0</td>\n",
       "      <td>0.000000</td>\n",
       "      <td>1004</td>\n",
       "      <td>float64</td>\n",
       "    </tr>\n",
       "    <tr>\n",
       "      <th>spend_vas</th>\n",
       "      <td>0</td>\n",
       "      <td>0.000000</td>\n",
       "      <td>920</td>\n",
       "      <td>float64</td>\n",
       "    </tr>\n",
       "    <tr>\n",
       "      <th>spend_total</th>\n",
       "      <td>0</td>\n",
       "      <td>0.000000</td>\n",
       "      <td>18904</td>\n",
       "      <td>float64</td>\n",
       "    </tr>\n",
       "    <tr>\n",
       "      <th>event_type</th>\n",
       "      <td>0</td>\n",
       "      <td>0.000000</td>\n",
       "      <td>3</td>\n",
       "      <td>object</td>\n",
       "    </tr>\n",
       "    <tr>\n",
       "      <th>timestamp</th>\n",
       "      <td>0</td>\n",
       "      <td>0.000000</td>\n",
       "      <td>23105</td>\n",
       "      <td>datetime64[ns, UTC]</td>\n",
       "    </tr>\n",
       "    <tr>\n",
       "      <th>os_name</th>\n",
       "      <td>0</td>\n",
       "      <td>0.000000</td>\n",
       "      <td>90</td>\n",
       "      <td>float64</td>\n",
       "    </tr>\n",
       "  </tbody>\n",
       "</table>\n",
       "</div>"
      ],
      "text/plain": [
       "                     Total NaN  Percent of NaN  Nunique                Dtype\n",
       "ad_text                      1        0.004034       57              float64\n",
       "msisdn                       0        0.000000    22779               object\n",
       "age                          0        0.000000       90              float64\n",
       "os_vendor                    0        0.000000      126              float64\n",
       "device_type                  0        0.000000        3              float64\n",
       "device_model                 0        0.000000     2292              float64\n",
       "device_manufacturer          0        0.000000      275              float64\n",
       "location_lga                 0        0.000000      660              float64\n",
       "location_state               0        0.000000       38              float64\n",
       "location_region              0        0.000000        7              float64\n",
       "has_bank                     0        0.000000        3              float64\n",
       "gender                       0        0.000000        3              float64\n",
       "customer_value               0        0.000000        6              float64\n",
       "timeline                     0        0.000000      150              float64\n",
       "customer_class               0        0.000000       28              float64\n",
       "spend_data                   0        0.000000      817              float64\n",
       "spend_voice                  0        0.000000    11960              float64\n",
       "sms_cost                     0        0.000000     1004              float64\n",
       "spend_vas                    0        0.000000      920              float64\n",
       "spend_total                  0        0.000000    18904              float64\n",
       "event_type                   0        0.000000        3               object\n",
       "timestamp                    0        0.000000    23105  datetime64[ns, UTC]\n",
       "os_name                      0        0.000000       90              float64"
      ]
     },
     "metadata": {},
     "output_type": "display_data"
    }
   ],
   "source": [
    "quality_report(data)"
   ]
  },
  {
   "cell_type": "markdown",
   "metadata": {
    "id": "toxic-insight"
   },
   "source": [
    "# 5. Feature Engineering"
   ]
  },
  {
   "cell_type": "code",
   "execution_count": 33,
   "metadata": {
    "execution": {
     "iopub.execute_input": "2021-11-16T14:17:15.239068Z",
     "iopub.status.busy": "2021-11-16T14:17:15.238826Z",
     "iopub.status.idle": "2021-11-16T14:17:15.257708Z",
     "shell.execute_reply": "2021-11-16T14:17:15.256345Z",
     "shell.execute_reply.started": "2021-11-16T14:17:15.239040Z"
    }
   },
   "outputs": [],
   "source": [
    "data['timestamp'] = pd.to_datetime(data.timestamp,utc = True)"
   ]
  },
  {
   "cell_type": "code",
   "execution_count": 34,
   "metadata": {
    "execution": {
     "iopub.execute_input": "2021-11-16T14:17:15.259471Z",
     "iopub.status.busy": "2021-11-16T14:17:15.259201Z",
     "iopub.status.idle": "2021-11-16T14:17:15.306298Z",
     "shell.execute_reply": "2021-11-16T14:17:15.305606Z",
     "shell.execute_reply.started": "2021-11-16T14:17:15.259439Z"
    },
    "id": "classical-amino",
    "outputId": "52a244b8-1af1-4cc3-fcff-0908a04421ac"
   },
   "outputs": [
    {
     "data": {
      "text/plain": [
       "Timestamp('2020-12-24 06:05:55+0000', tz='UTC')"
      ]
     },
     "execution_count": 34,
     "metadata": {},
     "output_type": "execute_result"
    }
   ],
   "source": [
    "max(data.timestamp)"
   ]
  },
  {
   "cell_type": "code",
   "execution_count": 35,
   "metadata": {
    "execution": {
     "iopub.execute_input": "2021-11-16T14:17:15.307794Z",
     "iopub.status.busy": "2021-11-16T14:17:15.307433Z",
     "iopub.status.idle": "2021-11-16T14:17:15.337992Z",
     "shell.execute_reply": "2021-11-16T14:17:15.337346Z",
     "shell.execute_reply.started": "2021-11-16T14:17:15.307766Z"
    },
    "id": "modular-language"
   },
   "outputs": [],
   "source": [
    "data['year'] = data.timestamp.dt.year\n",
    "data['month'] = data.timestamp.dt.month\n",
    "data['quater'] = data.timestamp.dt.quarter\n",
    "\n",
    "\n",
    "today = pd.to_datetime(pd.Timestamp(year = 2021,  month = 1, day = 1,\n",
    "                  hour = 0, second = 0, tz = 'UTC'))\n",
    "\n",
    "data['duration_days'] = (today - data['timestamp']).dt.days\n",
    "data['duration_months'] = ((today- data.timestamp)/np.timedelta64(1, 'M'))\n",
    "data['duration_months'] = data['duration_months'].astype(int)\n",
    "\n",
    "data['is_month_end'] = data.timestamp.dt.is_month_end.astype(int)\n",
    "data['is_month_start'] = data.timestamp.dt.is_month_start.astype(int)"
   ]
  },
  {
   "cell_type": "code",
   "execution_count": 36,
   "metadata": {
    "execution": {
     "iopub.execute_input": "2021-11-16T14:17:15.339482Z",
     "iopub.status.busy": "2021-11-16T14:17:15.339115Z",
     "iopub.status.idle": "2021-11-16T14:17:15.342916Z",
     "shell.execute_reply": "2021-11-16T14:17:15.341936Z",
     "shell.execute_reply.started": "2021-11-16T14:17:15.339453Z"
    },
    "id": "referenced-hawaii"
   },
   "outputs": [],
   "source": [
    "#data['total_children'] = data['No_of_Kids_in_home'] + data['No_of_Teen_in_home']"
   ]
  },
  {
   "cell_type": "code",
   "execution_count": 37,
   "metadata": {
    "execution": {
     "iopub.execute_input": "2021-11-16T14:17:15.344420Z",
     "iopub.status.busy": "2021-11-16T14:17:15.344156Z",
     "iopub.status.idle": "2021-11-16T14:17:15.355131Z",
     "shell.execute_reply": "2021-11-16T14:17:15.354137Z",
     "shell.execute_reply.started": "2021-11-16T14:17:15.344389Z"
    },
    "id": "complex-chaos"
   },
   "outputs": [],
   "source": [
    "poly_feature_1 = ['spend_vas', 'sms_cost', 'spend_voice', 'spend_data']\n",
    "poly_feature_2 = ['location_region', 'location_state', 'location_lga']\n",
    "poly_feature_3 = ['device_manufacturer', 'device_model', 'device_type','os_vendor','os_name']\n"
   ]
  },
  {
   "cell_type": "code",
   "execution_count": 38,
   "metadata": {
    "execution": {
     "iopub.execute_input": "2021-11-16T14:17:15.356757Z",
     "iopub.status.busy": "2021-11-16T14:17:15.356388Z",
     "iopub.status.idle": "2021-11-16T14:17:15.367300Z",
     "shell.execute_reply": "2021-11-16T14:17:15.366324Z",
     "shell.execute_reply.started": "2021-11-16T14:17:15.356726Z"
    },
    "id": "engaged-malaysia"
   },
   "outputs": [],
   "source": [
    "from sklearn.preprocessing import PolynomialFeatures"
   ]
  },
  {
   "cell_type": "code",
   "execution_count": 39,
   "metadata": {
    "execution": {
     "iopub.execute_input": "2021-11-16T14:17:15.369050Z",
     "iopub.status.busy": "2021-11-16T14:17:15.368665Z",
     "iopub.status.idle": "2021-11-16T14:17:15.397622Z",
     "shell.execute_reply": "2021-11-16T14:17:15.396480Z",
     "shell.execute_reply.started": "2021-11-16T14:17:15.369019Z"
    },
    "id": "welsh-tuition"
   },
   "outputs": [],
   "source": [
    "poly = PolynomialFeatures(degree=2, interaction_only=True, include_bias=False)\n",
    "\n",
    "poly1 = poly.fit_transform(data[poly_feature_1])\n",
    "poly2 = poly.fit_transform(data[poly_feature_2])\n",
    "poly3 = poly.fit_transform(data[poly_feature_3])\n"
   ]
  },
  {
   "cell_type": "code",
   "execution_count": 40,
   "metadata": {
    "execution": {
     "iopub.execute_input": "2021-11-16T14:17:15.399433Z",
     "iopub.status.busy": "2021-11-16T14:17:15.399058Z",
     "iopub.status.idle": "2021-11-16T14:17:15.407199Z",
     "shell.execute_reply": "2021-11-16T14:17:15.406146Z",
     "shell.execute_reply.started": "2021-11-16T14:17:15.399393Z"
    },
    "id": "continued-rings"
   },
   "outputs": [],
   "source": [
    "df_poly1 = pd.DataFrame(poly1, columns=[f\"poly1_{i}\" for i in range(poly1.shape[1])])\n",
    "df_poly2 = pd.DataFrame(poly2, columns=[f\"poly2_{i}\" for i in range(poly2.shape[1])])\n",
    "df_poly3 = pd.DataFrame(poly3, columns=[f\"poly3_{i}\" for i in range(poly3.shape[1])])\n",
    "\n",
    "\n"
   ]
  },
  {
   "cell_type": "code",
   "execution_count": 41,
   "metadata": {
    "execution": {
     "iopub.execute_input": "2021-11-16T14:17:15.409068Z",
     "iopub.status.busy": "2021-11-16T14:17:15.408515Z",
     "iopub.status.idle": "2021-11-16T14:17:15.425468Z",
     "shell.execute_reply": "2021-11-16T14:17:15.424712Z",
     "shell.execute_reply.started": "2021-11-16T14:17:15.409029Z"
    },
    "id": "united-kidney",
    "outputId": "4ab092a4-cca8-4cc8-f45d-22062124864e"
   },
   "outputs": [
    {
     "data": {
      "text/plain": [
       "Index(['msisdn', 'timeline', 'timestamp', 'event_type', 'ad_text',\n",
       "       'spend_total', 'spend_vas', 'sms_cost', 'spend_voice', 'spend_data',\n",
       "       'customer_class', 'customer_value', 'age', 'gender', 'has_bank',\n",
       "       'location_region', 'location_state', 'location_lga',\n",
       "       'device_manufacturer', 'device_model', 'device_type', 'os_vendor',\n",
       "       'os_name', 'year', 'month', 'quater', 'duration_days',\n",
       "       'duration_months', 'is_month_end', 'is_month_start'],\n",
       "      dtype='object')"
      ]
     },
     "execution_count": 41,
     "metadata": {},
     "output_type": "execute_result"
    }
   ],
   "source": [
    "data.columns"
   ]
  },
  {
   "cell_type": "code",
   "execution_count": 42,
   "metadata": {
    "execution": {
     "iopub.execute_input": "2021-11-16T14:17:15.427207Z",
     "iopub.status.busy": "2021-11-16T14:17:15.426817Z",
     "iopub.status.idle": "2021-11-16T14:17:15.455051Z",
     "shell.execute_reply": "2021-11-16T14:17:15.454359Z",
     "shell.execute_reply.started": "2021-11-16T14:17:15.427164Z"
    },
    "id": "environmental-rwanda"
   },
   "outputs": [],
   "source": [
    "new_data = pd.concat([data, df_poly1], axis = 1)\n",
    "new_data = pd.concat([new_data, df_poly2], axis = 1)\n",
    "new_data = pd.concat([new_data, df_poly3], axis = 1)\n",
    "\n"
   ]
  },
  {
   "cell_type": "code",
   "execution_count": 43,
   "metadata": {
    "execution": {
     "iopub.execute_input": "2021-11-16T14:17:15.456682Z",
     "iopub.status.busy": "2021-11-16T14:17:15.456426Z",
     "iopub.status.idle": "2021-11-16T14:17:15.505243Z",
     "shell.execute_reply": "2021-11-16T14:17:15.504522Z",
     "shell.execute_reply.started": "2021-11-16T14:17:15.456652Z"
    },
    "id": "wound-spectacular"
   },
   "outputs": [],
   "source": [
    "new_data['telecoms_spend'] = new_data[poly_feature_1].sum(axis = 1)\n",
    "new_data['geography'] = new_data[poly_feature_2].sum(axis = 1)\n",
    "new_data['sevice_build'] = new_data[poly_feature_3].sum(axis = 1)\n"
   ]
  },
  {
   "cell_type": "code",
   "execution_count": 44,
   "metadata": {
    "execution": {
     "iopub.execute_input": "2021-11-16T14:17:15.507024Z",
     "iopub.status.busy": "2021-11-16T14:17:15.506393Z",
     "iopub.status.idle": "2021-11-16T14:17:15.538631Z",
     "shell.execute_reply": "2021-11-16T14:17:15.537671Z",
     "shell.execute_reply.started": "2021-11-16T14:17:15.506984Z"
    },
    "id": "norman-textbook"
   },
   "outputs": [],
   "source": [
    "new_data['year_month'] = new_data['year'].apply(str) + \"_\"  + new_data['month'].apply(str)"
   ]
  },
  {
   "cell_type": "code",
   "execution_count": 45,
   "metadata": {
    "execution": {
     "iopub.execute_input": "2021-11-16T14:17:15.540245Z",
     "iopub.status.busy": "2021-11-16T14:17:15.539994Z",
     "iopub.status.idle": "2021-11-16T14:17:15.551738Z",
     "shell.execute_reply": "2021-11-16T14:17:15.550642Z",
     "shell.execute_reply.started": "2021-11-16T14:17:15.540216Z"
    },
    "id": "facial-desert"
   },
   "outputs": [],
   "source": [
    "# bin_label = [1,2,3,4,5]\n",
    "new_data['customer_class'] = pd.qcut(new_data.customer_class, q = [0, .2, .4, .6, .8, 1],duplicates='drop', labels=False)"
   ]
  },
  {
   "cell_type": "code",
   "execution_count": 46,
   "metadata": {
    "execution": {
     "iopub.execute_input": "2021-11-16T14:17:15.553799Z",
     "iopub.status.busy": "2021-11-16T14:17:15.553218Z",
     "iopub.status.idle": "2021-11-16T14:17:15.585077Z",
     "shell.execute_reply": "2021-11-16T14:17:15.584300Z",
     "shell.execute_reply.started": "2021-11-16T14:17:15.553759Z"
    },
    "id": "undefined-sierra"
   },
   "outputs": [],
   "source": [
    "#grouping attributes of spend_total of costumers by time periods\n",
    "new_data['spend_total' + '_mean_on_yr_mth'] = new_data['spend_total'].groupby(new_data['year_month']).transform('mean')\n",
    "new_data['spend_total' + '_std_on_yr_mth'] = new_data['spend_total'].groupby(new_data['year_month']).transform('std')\n",
    "new_data['spend_total' + '_max_on_yr_mth'] = new_data['spend_total'].groupby(new_data['year_month']).transform('max')\n",
    "new_data['spend_total' + '_min_on_yr_mth'] = new_data['spend_total'].groupby(new_data['year_month']).transform('min')"
   ]
  },
  {
   "cell_type": "code",
   "execution_count": 47,
   "metadata": {
    "execution": {
     "iopub.execute_input": "2021-11-16T14:17:15.586994Z",
     "iopub.status.busy": "2021-11-16T14:17:15.586650Z",
     "iopub.status.idle": "2021-11-16T14:17:15.596836Z",
     "shell.execute_reply": "2021-11-16T14:17:15.595724Z",
     "shell.execute_reply.started": "2021-11-16T14:17:15.586947Z"
    },
    "id": "strong-speaking"
   },
   "outputs": [],
   "source": [
    "new_data['year_month_int'], _ = pd.factorize(new_data['year_month'])"
   ]
  },
  {
   "cell_type": "code",
   "execution_count": 48,
   "metadata": {
    "execution": {
     "iopub.execute_input": "2021-11-16T14:17:15.598991Z",
     "iopub.status.busy": "2021-11-16T14:17:15.598707Z",
     "iopub.status.idle": "2021-11-16T14:17:15.609023Z",
     "shell.execute_reply": "2021-11-16T14:17:15.608008Z",
     "shell.execute_reply.started": "2021-11-16T14:17:15.598956Z"
    },
    "id": "indonesian-moses",
    "outputId": "0e10ddee-952e-4a97-c97f-f413f0ad26e7"
   },
   "outputs": [
    {
     "data": {
      "text/plain": [
       "Index(['msisdn', 'timeline', 'timestamp', 'event_type', 'ad_text',\n",
       "       'spend_total', 'spend_vas', 'sms_cost', 'spend_voice', 'spend_data',\n",
       "       'customer_class', 'customer_value', 'age', 'gender', 'has_bank',\n",
       "       'location_region', 'location_state', 'location_lga',\n",
       "       'device_manufacturer', 'device_model', 'device_type', 'os_vendor',\n",
       "       'os_name', 'year', 'month', 'quater', 'duration_days',\n",
       "       'duration_months', 'is_month_end', 'is_month_start', 'poly1_0',\n",
       "       'poly1_1', 'poly1_2', 'poly1_3', 'poly1_4', 'poly1_5', 'poly1_6',\n",
       "       'poly1_7', 'poly1_8', 'poly1_9', 'poly2_0', 'poly2_1', 'poly2_2',\n",
       "       'poly2_3', 'poly2_4', 'poly2_5', 'poly3_0', 'poly3_1', 'poly3_2',\n",
       "       'poly3_3', 'poly3_4', 'poly3_5', 'poly3_6', 'poly3_7', 'poly3_8',\n",
       "       'poly3_9', 'poly3_10', 'poly3_11', 'poly3_12', 'poly3_13', 'poly3_14',\n",
       "       'telecoms_spend', 'geography', 'sevice_build', 'year_month',\n",
       "       'spend_total_mean_on_yr_mth', 'spend_total_std_on_yr_mth',\n",
       "       'spend_total_max_on_yr_mth', 'spend_total_min_on_yr_mth',\n",
       "       'year_month_int'],\n",
       "      dtype='object')"
      ]
     },
     "execution_count": 48,
     "metadata": {},
     "output_type": "execute_result"
    }
   ],
   "source": [
    "new_data.columns"
   ]
  },
  {
   "cell_type": "code",
   "execution_count": 49,
   "metadata": {
    "execution": {
     "iopub.execute_input": "2021-11-16T14:17:15.611117Z",
     "iopub.status.busy": "2021-11-16T14:17:15.610717Z",
     "iopub.status.idle": "2021-11-16T14:17:15.638206Z",
     "shell.execute_reply": "2021-11-16T14:17:15.637546Z",
     "shell.execute_reply.started": "2021-11-16T14:17:15.611081Z"
    },
    "id": "running-purple"
   },
   "outputs": [],
   "source": [
    "features = new_data.select_dtypes(include = 'number').columns"
   ]
  },
  {
   "cell_type": "code",
   "execution_count": 50,
   "metadata": {
    "execution": {
     "iopub.execute_input": "2021-11-16T14:17:15.640117Z",
     "iopub.status.busy": "2021-11-16T14:17:15.639495Z",
     "iopub.status.idle": "2021-11-16T14:17:15.664208Z",
     "shell.execute_reply": "2021-11-16T14:17:15.663521Z",
     "shell.execute_reply.started": "2021-11-16T14:17:15.640082Z"
    },
    "id": "documentary-sleeping"
   },
   "outputs": [],
   "source": [
    "train_df = new_data.loc[(new_data['event_type'] != 'test')].reset_index(drop = True)\n",
    "test_df = new_data.loc[(new_data['event_type'] == 'test')].reset_index(drop = True)"
   ]
  },
  {
   "cell_type": "code",
   "execution_count": 51,
   "metadata": {
    "execution": {
     "iopub.execute_input": "2021-11-16T14:17:15.665719Z",
     "iopub.status.busy": "2021-11-16T14:17:15.665353Z",
     "iopub.status.idle": "2021-11-16T14:17:15.669115Z",
     "shell.execute_reply": "2021-11-16T14:17:15.668405Z",
     "shell.execute_reply.started": "2021-11-16T14:17:15.665689Z"
    }
   },
   "outputs": [],
   "source": [
    "#test_df.head(5)"
   ]
  },
  {
   "cell_type": "code",
   "execution_count": 52,
   "metadata": {
    "execution": {
     "iopub.execute_input": "2021-11-16T14:17:15.671534Z",
     "iopub.status.busy": "2021-11-16T14:17:15.670783Z",
     "iopub.status.idle": "2021-11-16T14:17:15.744307Z",
     "shell.execute_reply": "2021-11-16T14:17:15.743311Z",
     "shell.execute_reply.started": "2021-11-16T14:17:15.671483Z"
    }
   },
   "outputs": [
    {
     "data": {
      "text/html": [
       "<div>\n",
       "<style scoped>\n",
       "    .dataframe tbody tr th:only-of-type {\n",
       "        vertical-align: middle;\n",
       "    }\n",
       "\n",
       "    .dataframe tbody tr th {\n",
       "        vertical-align: top;\n",
       "    }\n",
       "\n",
       "    .dataframe thead th {\n",
       "        text-align: right;\n",
       "    }\n",
       "</style>\n",
       "<table border=\"1\" class=\"dataframe\">\n",
       "  <thead>\n",
       "    <tr style=\"text-align: right;\">\n",
       "      <th></th>\n",
       "      <th>msisdn</th>\n",
       "      <th>timeline</th>\n",
       "      <th>timestamp</th>\n",
       "      <th>event_type</th>\n",
       "      <th>ad_text</th>\n",
       "      <th>spend_total</th>\n",
       "      <th>spend_vas</th>\n",
       "      <th>sms_cost</th>\n",
       "      <th>spend_voice</th>\n",
       "      <th>spend_data</th>\n",
       "      <th>customer_class</th>\n",
       "      <th>customer_value</th>\n",
       "      <th>age</th>\n",
       "      <th>gender</th>\n",
       "      <th>has_bank</th>\n",
       "      <th>location_region</th>\n",
       "      <th>location_state</th>\n",
       "      <th>location_lga</th>\n",
       "      <th>device_manufacturer</th>\n",
       "      <th>device_model</th>\n",
       "      <th>device_type</th>\n",
       "      <th>os_vendor</th>\n",
       "      <th>os_name</th>\n",
       "      <th>year</th>\n",
       "      <th>month</th>\n",
       "      <th>quater</th>\n",
       "      <th>duration_days</th>\n",
       "      <th>duration_months</th>\n",
       "      <th>is_month_end</th>\n",
       "      <th>is_month_start</th>\n",
       "      <th>poly1_0</th>\n",
       "      <th>poly1_1</th>\n",
       "      <th>poly1_2</th>\n",
       "      <th>poly1_3</th>\n",
       "      <th>poly1_4</th>\n",
       "      <th>poly1_5</th>\n",
       "      <th>poly1_6</th>\n",
       "      <th>poly1_7</th>\n",
       "      <th>poly1_8</th>\n",
       "      <th>poly1_9</th>\n",
       "      <th>poly2_0</th>\n",
       "      <th>poly2_1</th>\n",
       "      <th>poly2_2</th>\n",
       "      <th>poly2_3</th>\n",
       "      <th>poly2_4</th>\n",
       "      <th>poly2_5</th>\n",
       "      <th>poly3_0</th>\n",
       "      <th>poly3_1</th>\n",
       "      <th>poly3_2</th>\n",
       "      <th>poly3_3</th>\n",
       "      <th>poly3_4</th>\n",
       "      <th>poly3_5</th>\n",
       "      <th>poly3_6</th>\n",
       "      <th>poly3_7</th>\n",
       "      <th>poly3_8</th>\n",
       "      <th>poly3_9</th>\n",
       "      <th>poly3_10</th>\n",
       "      <th>poly3_11</th>\n",
       "      <th>poly3_12</th>\n",
       "      <th>poly3_13</th>\n",
       "      <th>poly3_14</th>\n",
       "      <th>telecoms_spend</th>\n",
       "      <th>geography</th>\n",
       "      <th>sevice_build</th>\n",
       "      <th>year_month</th>\n",
       "      <th>spend_total_mean_on_yr_mth</th>\n",
       "      <th>spend_total_std_on_yr_mth</th>\n",
       "      <th>spend_total_max_on_yr_mth</th>\n",
       "      <th>spend_total_min_on_yr_mth</th>\n",
       "      <th>year_month_int</th>\n",
       "    </tr>\n",
       "  </thead>\n",
       "  <tbody>\n",
       "    <tr>\n",
       "      <th>0</th>\n",
       "      <td>b0c89e6222030d07623bbdfcd802068a</td>\n",
       "      <td>1.560529e+12</td>\n",
       "      <td>2019-07-01 20:01:54+00:00</td>\n",
       "      <td>1.0</td>\n",
       "      <td>1.0</td>\n",
       "      <td>2098.40</td>\n",
       "      <td>0.0</td>\n",
       "      <td>0.0</td>\n",
       "      <td>0.00</td>\n",
       "      <td>0.0</td>\n",
       "      <td>0</td>\n",
       "      <td>1.0</td>\n",
       "      <td>30.0</td>\n",
       "      <td>1.0</td>\n",
       "      <td>1.0</td>\n",
       "      <td>5.0</td>\n",
       "      <td>3.0</td>\n",
       "      <td>527.0</td>\n",
       "      <td>227.0</td>\n",
       "      <td>502.0</td>\n",
       "      <td>1.0</td>\n",
       "      <td>53.0</td>\n",
       "      <td>14.0</td>\n",
       "      <td>2019</td>\n",
       "      <td>7</td>\n",
       "      <td>3</td>\n",
       "      <td>549</td>\n",
       "      <td>18</td>\n",
       "      <td>0</td>\n",
       "      <td>1</td>\n",
       "      <td>0.0</td>\n",
       "      <td>0.0</td>\n",
       "      <td>0.00</td>\n",
       "      <td>0.0</td>\n",
       "      <td>0.0</td>\n",
       "      <td>0.0</td>\n",
       "      <td>0.0</td>\n",
       "      <td>0.00</td>\n",
       "      <td>0.0</td>\n",
       "      <td>0.0</td>\n",
       "      <td>5.0</td>\n",
       "      <td>3.0</td>\n",
       "      <td>527.0</td>\n",
       "      <td>15.0</td>\n",
       "      <td>2635.0</td>\n",
       "      <td>1581.0</td>\n",
       "      <td>227.0</td>\n",
       "      <td>502.0</td>\n",
       "      <td>1.0</td>\n",
       "      <td>53.0</td>\n",
       "      <td>14.0</td>\n",
       "      <td>113954.0</td>\n",
       "      <td>227.0</td>\n",
       "      <td>12031.0</td>\n",
       "      <td>3178.0</td>\n",
       "      <td>502.0</td>\n",
       "      <td>26606.0</td>\n",
       "      <td>7028.0</td>\n",
       "      <td>53.0</td>\n",
       "      <td>14.0</td>\n",
       "      <td>742.0</td>\n",
       "      <td>0.00</td>\n",
       "      <td>535.0</td>\n",
       "      <td>797.0</td>\n",
       "      <td>2019_7</td>\n",
       "      <td>5656.466458</td>\n",
       "      <td>27057.362116</td>\n",
       "      <td>1535133.300</td>\n",
       "      <td>0.0</td>\n",
       "      <td>0</td>\n",
       "    </tr>\n",
       "    <tr>\n",
       "      <th>1</th>\n",
       "      <td>8dbe350a0864243bcbcab192c11afb1c</td>\n",
       "      <td>1.561370e+12</td>\n",
       "      <td>2019-07-27 12:45:55+00:00</td>\n",
       "      <td>1.0</td>\n",
       "      <td>2.0</td>\n",
       "      <td>5361.80</td>\n",
       "      <td>510.0</td>\n",
       "      <td>156.0</td>\n",
       "      <td>2933.86</td>\n",
       "      <td>2000.0</td>\n",
       "      <td>0</td>\n",
       "      <td>2.0</td>\n",
       "      <td>33.0</td>\n",
       "      <td>1.0</td>\n",
       "      <td>1.0</td>\n",
       "      <td>6.0</td>\n",
       "      <td>25.0</td>\n",
       "      <td>279.0</td>\n",
       "      <td>173.0</td>\n",
       "      <td>11.0</td>\n",
       "      <td>2.0</td>\n",
       "      <td>108.0</td>\n",
       "      <td>70.0</td>\n",
       "      <td>2019</td>\n",
       "      <td>7</td>\n",
       "      <td>3</td>\n",
       "      <td>523</td>\n",
       "      <td>17</td>\n",
       "      <td>0</td>\n",
       "      <td>0</td>\n",
       "      <td>510.0</td>\n",
       "      <td>156.0</td>\n",
       "      <td>2933.86</td>\n",
       "      <td>2000.0</td>\n",
       "      <td>79560.0</td>\n",
       "      <td>1496268.6</td>\n",
       "      <td>1020000.0</td>\n",
       "      <td>457682.16</td>\n",
       "      <td>312000.0</td>\n",
       "      <td>5867720.0</td>\n",
       "      <td>6.0</td>\n",
       "      <td>25.0</td>\n",
       "      <td>279.0</td>\n",
       "      <td>150.0</td>\n",
       "      <td>1674.0</td>\n",
       "      <td>6975.0</td>\n",
       "      <td>173.0</td>\n",
       "      <td>11.0</td>\n",
       "      <td>2.0</td>\n",
       "      <td>108.0</td>\n",
       "      <td>70.0</td>\n",
       "      <td>1903.0</td>\n",
       "      <td>346.0</td>\n",
       "      <td>18684.0</td>\n",
       "      <td>12110.0</td>\n",
       "      <td>22.0</td>\n",
       "      <td>1188.0</td>\n",
       "      <td>770.0</td>\n",
       "      <td>216.0</td>\n",
       "      <td>140.0</td>\n",
       "      <td>7560.0</td>\n",
       "      <td>5599.86</td>\n",
       "      <td>310.0</td>\n",
       "      <td>364.0</td>\n",
       "      <td>2019_7</td>\n",
       "      <td>5656.466458</td>\n",
       "      <td>27057.362116</td>\n",
       "      <td>1535133.300</td>\n",
       "      <td>0.0</td>\n",
       "      <td>0</td>\n",
       "    </tr>\n",
       "    <tr>\n",
       "      <th>2</th>\n",
       "      <td>e9494ef7df151115dd00cb9e0cd75b28</td>\n",
       "      <td>1.559919e+12</td>\n",
       "      <td>2019-06-09 09:13:49+00:00</td>\n",
       "      <td>1.0</td>\n",
       "      <td>3.0</td>\n",
       "      <td>6000.26</td>\n",
       "      <td>240.0</td>\n",
       "      <td>24.0</td>\n",
       "      <td>2545.11</td>\n",
       "      <td>1000.0</td>\n",
       "      <td>1</td>\n",
       "      <td>2.0</td>\n",
       "      <td>43.0</td>\n",
       "      <td>1.0</td>\n",
       "      <td>1.0</td>\n",
       "      <td>6.0</td>\n",
       "      <td>25.0</td>\n",
       "      <td>384.0</td>\n",
       "      <td>173.0</td>\n",
       "      <td>88.0</td>\n",
       "      <td>1.0</td>\n",
       "      <td>53.0</td>\n",
       "      <td>14.0</td>\n",
       "      <td>2019</td>\n",
       "      <td>6</td>\n",
       "      <td>2</td>\n",
       "      <td>571</td>\n",
       "      <td>18</td>\n",
       "      <td>0</td>\n",
       "      <td>0</td>\n",
       "      <td>240.0</td>\n",
       "      <td>24.0</td>\n",
       "      <td>2545.11</td>\n",
       "      <td>1000.0</td>\n",
       "      <td>5760.0</td>\n",
       "      <td>610826.4</td>\n",
       "      <td>240000.0</td>\n",
       "      <td>61082.64</td>\n",
       "      <td>24000.0</td>\n",
       "      <td>2545110.0</td>\n",
       "      <td>6.0</td>\n",
       "      <td>25.0</td>\n",
       "      <td>384.0</td>\n",
       "      <td>150.0</td>\n",
       "      <td>2304.0</td>\n",
       "      <td>9600.0</td>\n",
       "      <td>173.0</td>\n",
       "      <td>88.0</td>\n",
       "      <td>1.0</td>\n",
       "      <td>53.0</td>\n",
       "      <td>14.0</td>\n",
       "      <td>15224.0</td>\n",
       "      <td>173.0</td>\n",
       "      <td>9169.0</td>\n",
       "      <td>2422.0</td>\n",
       "      <td>88.0</td>\n",
       "      <td>4664.0</td>\n",
       "      <td>1232.0</td>\n",
       "      <td>53.0</td>\n",
       "      <td>14.0</td>\n",
       "      <td>742.0</td>\n",
       "      <td>3809.11</td>\n",
       "      <td>415.0</td>\n",
       "      <td>329.0</td>\n",
       "      <td>2019_6</td>\n",
       "      <td>4055.841174</td>\n",
       "      <td>14865.404589</td>\n",
       "      <td>571404.552</td>\n",
       "      <td>0.0</td>\n",
       "      <td>1</td>\n",
       "    </tr>\n",
       "  </tbody>\n",
       "</table>\n",
       "</div>"
      ],
      "text/plain": [
       "                             msisdn      timeline                 timestamp  \\\n",
       "0  b0c89e6222030d07623bbdfcd802068a  1.560529e+12 2019-07-01 20:01:54+00:00   \n",
       "1  8dbe350a0864243bcbcab192c11afb1c  1.561370e+12 2019-07-27 12:45:55+00:00   \n",
       "2  e9494ef7df151115dd00cb9e0cd75b28  1.559919e+12 2019-06-09 09:13:49+00:00   \n",
       "\n",
       "  event_type  ad_text  spend_total  spend_vas  sms_cost  spend_voice  \\\n",
       "0        1.0      1.0      2098.40        0.0       0.0         0.00   \n",
       "1        1.0      2.0      5361.80      510.0     156.0      2933.86   \n",
       "2        1.0      3.0      6000.26      240.0      24.0      2545.11   \n",
       "\n",
       "   spend_data  customer_class  customer_value   age  gender  has_bank  \\\n",
       "0         0.0               0             1.0  30.0     1.0       1.0   \n",
       "1      2000.0               0             2.0  33.0     1.0       1.0   \n",
       "2      1000.0               1             2.0  43.0     1.0       1.0   \n",
       "\n",
       "   location_region  location_state  location_lga  device_manufacturer  \\\n",
       "0              5.0             3.0         527.0                227.0   \n",
       "1              6.0            25.0         279.0                173.0   \n",
       "2              6.0            25.0         384.0                173.0   \n",
       "\n",
       "   device_model  device_type  os_vendor  os_name  year  month  quater  \\\n",
       "0         502.0          1.0       53.0     14.0  2019      7       3   \n",
       "1          11.0          2.0      108.0     70.0  2019      7       3   \n",
       "2          88.0          1.0       53.0     14.0  2019      6       2   \n",
       "\n",
       "   duration_days  duration_months  is_month_end  is_month_start  poly1_0  \\\n",
       "0            549               18             0               1      0.0   \n",
       "1            523               17             0               0    510.0   \n",
       "2            571               18             0               0    240.0   \n",
       "\n",
       "   poly1_1  poly1_2  poly1_3  poly1_4    poly1_5    poly1_6    poly1_7  \\\n",
       "0      0.0     0.00      0.0      0.0        0.0        0.0       0.00   \n",
       "1    156.0  2933.86   2000.0  79560.0  1496268.6  1020000.0  457682.16   \n",
       "2     24.0  2545.11   1000.0   5760.0   610826.4   240000.0   61082.64   \n",
       "\n",
       "    poly1_8    poly1_9  poly2_0  poly2_1  poly2_2  poly2_3  poly2_4  poly2_5  \\\n",
       "0       0.0        0.0      5.0      3.0    527.0     15.0   2635.0   1581.0   \n",
       "1  312000.0  5867720.0      6.0     25.0    279.0    150.0   1674.0   6975.0   \n",
       "2   24000.0  2545110.0      6.0     25.0    384.0    150.0   2304.0   9600.0   \n",
       "\n",
       "   poly3_0  poly3_1  poly3_2  poly3_3  poly3_4   poly3_5  poly3_6  poly3_7  \\\n",
       "0    227.0    502.0      1.0     53.0     14.0  113954.0    227.0  12031.0   \n",
       "1    173.0     11.0      2.0    108.0     70.0    1903.0    346.0  18684.0   \n",
       "2    173.0     88.0      1.0     53.0     14.0   15224.0    173.0   9169.0   \n",
       "\n",
       "   poly3_8  poly3_9  poly3_10  poly3_11  poly3_12  poly3_13  poly3_14  \\\n",
       "0   3178.0    502.0   26606.0    7028.0      53.0      14.0     742.0   \n",
       "1  12110.0     22.0    1188.0     770.0     216.0     140.0    7560.0   \n",
       "2   2422.0     88.0    4664.0    1232.0      53.0      14.0     742.0   \n",
       "\n",
       "   telecoms_spend  geography  sevice_build year_month  \\\n",
       "0            0.00      535.0         797.0     2019_7   \n",
       "1         5599.86      310.0         364.0     2019_7   \n",
       "2         3809.11      415.0         329.0     2019_6   \n",
       "\n",
       "   spend_total_mean_on_yr_mth  spend_total_std_on_yr_mth  \\\n",
       "0                 5656.466458               27057.362116   \n",
       "1                 5656.466458               27057.362116   \n",
       "2                 4055.841174               14865.404589   \n",
       "\n",
       "   spend_total_max_on_yr_mth  spend_total_min_on_yr_mth  year_month_int  \n",
       "0                1535133.300                        0.0               0  \n",
       "1                1535133.300                        0.0               0  \n",
       "2                 571404.552                        0.0               1  "
      ]
     },
     "execution_count": 52,
     "metadata": {},
     "output_type": "execute_result"
    }
   ],
   "source": [
    "new_data.head(3)"
   ]
  },
  {
   "cell_type": "code",
   "execution_count": 53,
   "metadata": {
    "execution": {
     "iopub.execute_input": "2021-11-16T14:17:15.746221Z",
     "iopub.status.busy": "2021-11-16T14:17:15.745893Z",
     "iopub.status.idle": "2021-11-16T14:17:15.768658Z",
     "shell.execute_reply": "2021-11-16T14:17:15.767583Z",
     "shell.execute_reply.started": "2021-11-16T14:17:15.746179Z"
    },
    "id": "different-worth"
   },
   "outputs": [],
   "source": [
    "train_df['event_type'] = train_df['event_type'].apply(int)"
   ]
  },
  {
   "cell_type": "code",
   "execution_count": 54,
   "metadata": {
    "execution": {
     "iopub.execute_input": "2021-11-16T14:17:15.770649Z",
     "iopub.status.busy": "2021-11-16T14:17:15.770159Z",
     "iopub.status.idle": "2021-11-16T14:17:15.775061Z",
     "shell.execute_reply": "2021-11-16T14:17:15.774193Z",
     "shell.execute_reply.started": "2021-11-16T14:17:15.770598Z"
    },
    "id": "known-sleeve"
   },
   "outputs": [],
   "source": [
    "target = 'event_type'"
   ]
  },
  {
   "cell_type": "markdown",
   "metadata": {
    "id": "female-crystal"
   },
   "source": [
    "# 6.  Modelling"
   ]
  },
  {
   "cell_type": "code",
   "execution_count": 55,
   "metadata": {
    "execution": {
     "iopub.execute_input": "2021-11-16T14:17:15.777035Z",
     "iopub.status.busy": "2021-11-16T14:17:15.776721Z",
     "iopub.status.idle": "2021-11-16T14:17:17.284903Z",
     "shell.execute_reply": "2021-11-16T14:17:17.283935Z",
     "shell.execute_reply.started": "2021-11-16T14:17:15.776992Z"
    },
    "id": "elementary-correction"
   },
   "outputs": [],
   "source": [
    "from catboost import CatBoostClassifier\n",
    "from sklearn.model_selection import StratifiedKFold\n",
    "from sklearn.metrics import log_loss, f1_score\n",
    "from xgboost import XGBClassifier\n",
    "from lightgbm import LGBMClassifier\n",
    "from sklearn.model_selection import train_test_split, cross_val_score"
   ]
  },
  {
   "cell_type": "code",
   "execution_count": 56,
   "metadata": {
    "execution": {
     "iopub.execute_input": "2021-11-16T14:17:17.286632Z",
     "iopub.status.busy": "2021-11-16T14:17:17.286374Z",
     "iopub.status.idle": "2021-11-16T14:17:17.309830Z",
     "shell.execute_reply": "2021-11-16T14:17:17.309153Z",
     "shell.execute_reply.started": "2021-11-16T14:17:17.286602Z"
    },
    "id": "divided-translator"
   },
   "outputs": [],
   "source": [
    "X = train_df[features]\n",
    "X.drop('timeline',axis=1,inplace=True)\n",
    "y = train_df[target]"
   ]
  },
  {
   "cell_type": "code",
   "execution_count": 57,
   "metadata": {
    "execution": {
     "iopub.execute_input": "2021-11-16T14:17:17.311710Z",
     "iopub.status.busy": "2021-11-16T14:17:17.311212Z",
     "iopub.status.idle": "2021-11-16T14:17:17.317620Z",
     "shell.execute_reply": "2021-11-16T14:17:17.316826Z",
     "shell.execute_reply.started": "2021-11-16T14:17:17.311676Z"
    }
   },
   "outputs": [
    {
     "data": {
      "text/plain": [
       "Index(['ad_text', 'spend_total', 'spend_vas', 'sms_cost', 'spend_voice',\n",
       "       'spend_data', 'customer_class', 'customer_value', 'age', 'gender',\n",
       "       'has_bank', 'location_region', 'location_state', 'location_lga',\n",
       "       'device_manufacturer', 'device_model', 'device_type', 'os_vendor',\n",
       "       'os_name', 'year', 'month', 'quater', 'duration_days',\n",
       "       'duration_months', 'is_month_end', 'is_month_start', 'poly1_0',\n",
       "       'poly1_1', 'poly1_2', 'poly1_3', 'poly1_4', 'poly1_5', 'poly1_6',\n",
       "       'poly1_7', 'poly1_8', 'poly1_9', 'poly2_0', 'poly2_1', 'poly2_2',\n",
       "       'poly2_3', 'poly2_4', 'poly2_5', 'poly3_0', 'poly3_1', 'poly3_2',\n",
       "       'poly3_3', 'poly3_4', 'poly3_5', 'poly3_6', 'poly3_7', 'poly3_8',\n",
       "       'poly3_9', 'poly3_10', 'poly3_11', 'poly3_12', 'poly3_13', 'poly3_14',\n",
       "       'telecoms_spend', 'geography', 'sevice_build',\n",
       "       'spend_total_mean_on_yr_mth', 'spend_total_std_on_yr_mth',\n",
       "       'spend_total_max_on_yr_mth', 'spend_total_min_on_yr_mth',\n",
       "       'year_month_int'],\n",
       "      dtype='object')"
      ]
     },
     "execution_count": 57,
     "metadata": {},
     "output_type": "execute_result"
    }
   ],
   "source": [
    "X.columns"
   ]
  },
  {
   "cell_type": "code",
   "execution_count": 58,
   "metadata": {
    "execution": {
     "iopub.execute_input": "2021-11-16T14:17:17.319646Z",
     "iopub.status.busy": "2021-11-16T14:17:17.319117Z",
     "iopub.status.idle": "2021-11-16T14:17:17.340921Z",
     "shell.execute_reply": "2021-11-16T14:17:17.340146Z",
     "shell.execute_reply.started": "2021-11-16T14:17:17.319607Z"
    },
    "id": "demonstrated-volunteer"
   },
   "outputs": [],
   "source": [
    "X_train, X_test, y_train, y_test = train_test_split(X, y, test_size=0.2, random_state=42)"
   ]
  },
  {
   "cell_type": "markdown",
   "metadata": {
    "id": "parental-future"
   },
   "source": [
    "## Baseline Models"
   ]
  },
  {
   "cell_type": "markdown",
   "metadata": {},
   "source": [
    "### MODEL 1 XGBClassifier #Benchmark f1 score 0.450828729281768"
   ]
  },
  {
   "cell_type": "code",
   "execution_count": 59,
   "metadata": {
    "execution": {
     "iopub.execute_input": "2021-11-16T14:17:17.342858Z",
     "iopub.status.busy": "2021-11-16T14:17:17.342580Z",
     "iopub.status.idle": "2021-11-16T14:17:40.662357Z",
     "shell.execute_reply": "2021-11-16T14:17:40.661606Z",
     "shell.execute_reply.started": "2021-11-16T14:17:17.342826Z"
    },
    "id": "compact-gothic",
    "outputId": "aec0f9e7-5d04-4650-909c-ac65ba6692ff"
   },
   "outputs": [
    {
     "name": "stdout",
     "output_type": "stream",
     "text": [
      "[15:42:06] WARNING: C:/Users/Administrator/workspace/xgboost-win64_release_1.4.0/src/learner.cc:1095: Starting in XGBoost 1.3.0, the default evaluation metric used with the objective 'binary:logistic' was changed from 'error' to 'logloss'. Explicitly set eval_metric if you'd like to restore the old behavior.\n"
     ]
    }
   ],
   "source": [
    "#MODEL 1 XGBClassifier #Benchmark f1 score 0.450828729281768\n",
    "\n",
    "model = XGBClassifier(scale_pos_weight = 8,max_depth = 8, n_estimators = 500)\n",
    "model.fit(X_train, y_train)\n",
    "prediction = model.predict(X_test)\n",
    "\n",
    "#print(f1_score(prediction, y_test))\n"
   ]
  },
  {
   "cell_type": "markdown",
   "metadata": {},
   "source": [
    "### MODEL 2 LGBM Classifier with oversampled inputs #Benchmark f1 score 0.4517184942716858"
   ]
  },
  {
   "cell_type": "code",
   "execution_count": 60,
   "metadata": {
    "execution": {
     "iopub.execute_input": "2021-11-16T14:22:25.256547Z",
     "iopub.status.busy": "2021-11-16T14:22:25.256152Z",
     "iopub.status.idle": "2021-11-16T14:22:25.658733Z",
     "shell.execute_reply": "2021-11-16T14:22:25.657741Z",
     "shell.execute_reply.started": "2021-11-16T14:22:25.256506Z"
    }
   },
   "outputs": [],
   "source": [
    "#undersampling\n",
    "from imblearn.under_sampling import RandomUnderSampler\n",
    "rus = RandomUnderSampler(random_state = 0)\n",
    "\n",
    "X_train_res, y_train_res = rus.fit_resample(X_train, y_train)\n",
    "\n",
    "\n"
   ]
  },
  {
   "cell_type": "code",
   "execution_count": 61,
   "metadata": {
    "execution": {
     "iopub.execute_input": "2021-11-16T14:22:27.505865Z",
     "iopub.status.busy": "2021-11-16T14:22:27.505139Z",
     "iopub.status.idle": "2021-11-16T14:22:27.719322Z",
     "shell.execute_reply": "2021-11-16T14:22:27.718215Z",
     "shell.execute_reply.started": "2021-11-16T14:22:27.505814Z"
    }
   },
   "outputs": [],
   "source": [
    "#oversampling\n",
    "from imblearn.over_sampling import SMOTE\n",
    "\n",
    "sm = SMOTE(random_state=42)\n",
    "X_train_res, y_train_res = sm.fit_resample(X_train, y_train)"
   ]
  },
  {
   "cell_type": "code",
   "execution_count": 62,
   "metadata": {
    "execution": {
     "iopub.execute_input": "2021-11-16T14:22:30.942159Z",
     "iopub.status.busy": "2021-11-16T14:22:30.941864Z",
     "iopub.status.idle": "2021-11-16T14:22:38.269278Z",
     "shell.execute_reply": "2021-11-16T14:22:38.268521Z",
     "shell.execute_reply.started": "2021-11-16T14:22:30.942127Z"
    },
    "id": "crazy-female",
    "outputId": "1e8452b4-c3c5-41c4-8e8b-3465be816337"
   },
   "outputs": [],
   "source": [
    "#MODEL 2 LGBM Classifier with oversampled inputs #Benchmark f1 score 0.4517184942716858\n",
    "\n",
    "model = LGBMClassifier(scale_pos_weight = 8,max_depth=6, n_estimators = 1000, learning_rate=0.01)\n",
    "model.fit(X_train_res, y_train_res)\n",
    "prediction = model.predict(X_test)\n",
    "\n",
    "#print(f1_score(prediction, y_test))\n"
   ]
  },
  {
   "cell_type": "markdown",
   "metadata": {},
   "source": [
    "### MODEL 3 CatBoostClassifier no sampling #Benchmark f1 score 0.3827314238273142"
   ]
  },
  {
   "cell_type": "code",
   "execution_count": 63,
   "metadata": {
    "execution": {
     "iopub.execute_input": "2021-11-16T14:22:45.655563Z",
     "iopub.status.busy": "2021-11-16T14:22:45.655225Z",
     "iopub.status.idle": "2021-11-16T14:22:45.660105Z",
     "shell.execute_reply": "2021-11-16T14:22:45.659175Z",
     "shell.execute_reply.started": "2021-11-16T14:22:45.655530Z"
    }
   },
   "outputs": [],
   "source": [
    "#MODEL 3 CatBoostClassifier no sampling #Benchmark f1 score 0.3827314238273142\n",
    "#model = CatBoostClassifier(scale_pos_weight = 27,max_depth=6, n_estimators = 1000, learning_rate=0.01)\n",
    "#model.fit(X_train_res, y_train_res)\n",
    "#prediction = model.predict(X_test)\n",
    "\n",
    "#print(f1_score(prediction, y_test))\n"
   ]
  },
  {
   "cell_type": "markdown",
   "metadata": {
    "id": "electronic-soldier"
   },
   "source": [
    "## Modelling with SMOTE"
   ]
  },
  {
   "cell_type": "code",
   "execution_count": 64,
   "metadata": {
    "execution": {
     "iopub.execute_input": "2021-11-16T14:22:52.396505Z",
     "iopub.status.busy": "2021-11-16T14:22:52.396087Z",
     "iopub.status.idle": "2021-11-16T14:22:52.403661Z",
     "shell.execute_reply": "2021-11-16T14:22:52.402827Z",
     "shell.execute_reply.started": "2021-11-16T14:22:52.396471Z"
    }
   },
   "outputs": [
    {
     "name": "stdout",
     "output_type": "stream",
     "text": [
      "0    16443\n",
      "1     2348\n",
      "Name: event_type, dtype: int64\n"
     ]
    }
   ],
   "source": [
    " print(train_df['event_type'].value_counts())"
   ]
  },
  {
   "cell_type": "code",
   "execution_count": 65,
   "metadata": {
    "execution": {
     "iopub.execute_input": "2021-11-16T14:23:01.996518Z",
     "iopub.status.busy": "2021-11-16T14:23:01.996098Z",
     "iopub.status.idle": "2021-11-16T14:23:02.167386Z",
     "shell.execute_reply": "2021-11-16T14:23:02.166428Z",
     "shell.execute_reply.started": "2021-11-16T14:23:01.996478Z"
    },
    "id": "north-profile"
   },
   "outputs": [],
   "source": [
    "from imblearn.over_sampling import SMOTE\n",
    "sm =SMOTE(sampling_strategy={1:5000, 0:16443},random_state=2021)\n",
    "X_, y_ = sm.fit_resample(train_df[features], train_df[target])"
   ]
  },
  {
   "cell_type": "markdown",
   "metadata": {},
   "source": [
    "### MODEL 4 lgbm_cat_5fold sampling #Benchmark f1 score 0.7361616642682244"
   ]
  },
  {
   "cell_type": "code",
   "execution_count": 66,
   "metadata": {
    "execution": {
     "iopub.execute_input": "2021-11-16T14:23:06.859446Z",
     "iopub.status.busy": "2021-11-16T14:23:06.859129Z",
     "iopub.status.idle": "2021-11-16T14:23:22.099343Z",
     "shell.execute_reply": "2021-11-16T14:23:22.098492Z",
     "shell.execute_reply.started": "2021-11-16T14:23:06.859415Z"
    },
    "id": "pressing-psychiatry",
    "outputId": "f4770d92-07fd-4490-e70d-fe50f92c896c"
   },
   "outputs": [
    {
     "name": "stdout",
     "output_type": "stream",
     "text": [
      "F1, fold 1: 0.6280843427545985\n",
      "F1, fold 2: 0.6277904328018223\n",
      "F1, fold 3: 0.771960958296362\n",
      "F1, fold 4: 0.8292480265891151\n",
      "F1, fold 5: 0.8533561351004701\n",
      "0.7420879791084736\n"
     ]
    }
   ],
   "source": [
    "#MODEL 4 lgb_cat_5fold sampling #Benchmark f1 score 0.7361616642682244\n",
    "oof_f1=[]\n",
    "oof_predictions=[]\n",
    "\n",
    "params = {'learning_rate': 0.3,\n",
    "         'subsample': 0.7845527188607021,\n",
    "         'colsample_bytree': 0.6474680443294045,\n",
    "         'max_depth': 8,\n",
    "         'scale_pos_weight': 27}\n",
    "\n",
    "fold=StratifiedKFold(n_splits=5)#15#5#10\n",
    "\n",
    "i=1\n",
    "for train_index, test_index in fold.split(X_,y_):\n",
    "        \n",
    "    X_train, X_test = X_.iloc[train_index], X_.iloc[test_index]\n",
    "    y_train, y_test = y_.iloc[train_index], y_.iloc[test_index]\n",
    "\n",
    "    model = LGBMClassifier(**params, n_estimators=1000)\n",
    "\n",
    "    model.fit(X_train,y_train,eval_set=[(X_train,y_train),(X_test, y_test)], early_stopping_rounds=300, verbose = False)#erly100\n",
    "    preds=model.predict(X_test)\n",
    "\n",
    "    print(f'F1, fold {i}: {f1_score(y_test,preds)}')\n",
    "    i+=1                \n",
    "    oof_f1.append(f1_score(y_test,preds))\n",
    "    p2 = model.predict_proba(test_df[features])[:,0]\n",
    "    oof_predictions.append(p2)\n",
    "    \n",
    "\n",
    "print(np.mean(oof_f1))"
   ]
  },
  {
   "cell_type": "code",
   "execution_count": 67,
   "metadata": {
    "execution": {
     "iopub.status.busy": "2021-11-16T14:17:40.724748Z",
     "iopub.status.idle": "2021-11-16T14:17:40.725105Z",
     "shell.execute_reply": "2021-11-16T14:17:40.724946Z",
     "shell.execute_reply.started": "2021-11-16T14:17:40.724925Z"
    }
   },
   "outputs": [],
   "source": [
    "#to see the probabilities of getting 0\n",
    "#p2\n"
   ]
  },
  {
   "cell_type": "markdown",
   "metadata": {},
   "source": [
    "#### Feature Importance for model 4 - 4 lgb_cat_5fold"
   ]
  },
  {
   "cell_type": "code",
   "execution_count": 68,
   "metadata": {
    "execution": {
     "iopub.execute_input": "2021-11-16T14:23:28.777614Z",
     "iopub.status.busy": "2021-11-16T14:23:28.776708Z",
     "iopub.status.idle": "2021-11-16T14:23:30.259712Z",
     "shell.execute_reply": "2021-11-16T14:23:30.258814Z",
     "shell.execute_reply.started": "2021-11-16T14:23:28.777566Z"
    },
    "id": "greater-struggle",
    "outputId": "b36ef29e-adae-4f67-da0f-c21a595b5fe2"
   },
   "outputs": [
    {
     "data": {
      "text/plain": [
       "Text(0.5, 1.0, 'Model features importance:')"
      ]
     },
     "execution_count": 68,
     "metadata": {},
     "output_type": "execute_result"
    },
    {
     "data": {
      "image/png": "[encoded data removed]",
      "text/plain": [
       "<Figure size 1440x864 with 1 Axes>"
      ]
     },
     "metadata": {
      "needs_background": "light"
     },
     "output_type": "display_data"
    }
   ],
   "source": [
    "# 0.7831404345536787\n",
    "feature_importance_df = pd.DataFrame(model.feature_importances_, columns=['importance'])\n",
    "feature_importance_df['feature'] = new_data[features].columns\n",
    "\n",
    "plt.figure(figsize=(20, 12));\n",
    "sns.barplot(x=\"importance\", y=\"feature\", data=feature_importance_df.sort_values(by = ['importance'], ascending = False).head(60))\n",
    "plt.title('Model features importance:')"
   ]
  },
  {
   "cell_type": "markdown",
   "metadata": {
    "id": "intense-maple"
   },
   "source": [
    "#### Feature Selection"
   ]
  },
  {
   "cell_type": "code",
   "execution_count": 69,
   "metadata": {
    "execution": {
     "iopub.status.busy": "2021-11-16T14:17:40.728488Z",
     "iopub.status.idle": "2021-11-16T14:17:40.729070Z",
     "shell.execute_reply": "2021-11-16T14:17:40.728891Z",
     "shell.execute_reply.started": "2021-11-16T14:17:40.728867Z"
    },
    "id": "addressed-summer"
   },
   "outputs": [],
   "source": [
    "#selecting 50 of the most prominent features for visualization\n",
    "new_feat = feature_importance_df.sort_values(by = ['importance'], ascending = False).head(50)['feature'].to_list()"
   ]
  },
  {
   "cell_type": "markdown",
   "metadata": {
    "id": "agricultural-society"
   },
   "source": [
    "#### Hyperparameter Tuning with optuna"
   ]
  },
  {
   "cell_type": "code",
   "execution_count": 70,
   "metadata": {
    "execution": {
     "iopub.execute_input": "2021-11-16T14:24:17.478610Z",
     "iopub.status.busy": "2021-11-16T14:24:17.478254Z",
     "iopub.status.idle": "2021-11-16T14:24:18.040662Z",
     "shell.execute_reply": "2021-11-16T14:24:18.039598Z",
     "shell.execute_reply.started": "2021-11-16T14:24:17.478571Z"
    },
    "id": "welcome-decrease"
   },
   "outputs": [],
   "source": [
    "import optuna"
   ]
  },
  {
   "cell_type": "code",
   "execution_count": 71,
   "metadata": {
    "execution": {
     "iopub.status.busy": "2021-11-16T14:17:40.732004Z",
     "iopub.status.idle": "2021-11-16T14:17:40.732625Z",
     "shell.execute_reply": "2021-11-16T14:17:40.732422Z",
     "shell.execute_reply.started": "2021-11-16T14:17:40.732400Z"
    },
    "id": "pleasant-naples"
   },
   "outputs": [],
   "source": [
    "X = train_df[features]\n",
    "y = train_df[target]"
   ]
  },
  {
   "cell_type": "code",
   "execution_count": 72,
   "metadata": {
    "execution": {
     "iopub.status.busy": "2021-11-16T14:17:40.733765Z",
     "iopub.status.idle": "2021-11-16T14:17:40.734396Z",
     "shell.execute_reply": "2021-11-16T14:17:40.734187Z",
     "shell.execute_reply.started": "2021-11-16T14:17:40.734166Z"
    },
    "id": "technological-analyst"
   },
   "outputs": [],
   "source": [
    "X = train_df[new_feat]"
   ]
  },
  {
   "cell_type": "markdown",
   "metadata": {},
   "source": [
    "### Model 5 XGboost tuned, f1_score 0.4749944377084578 and Catboost tuned, f1_score 0.38"
   ]
  },
  {
   "cell_type": "code",
   "execution_count": 73,
   "metadata": {
    "execution": {
     "iopub.execute_input": "2021-11-16T14:24:28.888123Z",
     "iopub.status.busy": "2021-11-16T14:24:28.887818Z",
     "iopub.status.idle": "2021-11-16T14:24:28.901187Z",
     "shell.execute_reply": "2021-11-16T14:24:28.900007Z",
     "shell.execute_reply.started": "2021-11-16T14:24:28.888089Z"
    },
    "id": "rapid-builder"
   },
   "outputs": [],
   "source": [
    "def objective(trial):\n",
    "    oof_f1=[]\n",
    "    oof_predictions=[]\n",
    "\n",
    "\n",
    "    param = {}\n",
    "#     param['objective'] = \"Logloss\"\n",
    "    param['learning_rate'] = trial.suggest_discrete_uniform(\"learning_rate\", 0.001, 0.1, 0.001)\n",
    "    param['depth'] = trial.suggest_int('depth', 3, 15)\n",
    "    param['l2_leaf_reg'] = trial.suggest_discrete_uniform('l2_leaf_reg', 1.0, 5.5, 0.5)\n",
    "    param['min_child_samples'] = trial.suggest_categorical('min_child_samples', [1, 4, 8, 16, 32])\n",
    "    param['iterations'] = trial.suggest_discrete_uniform(\"iterations\", 200, 2000, 50)\n",
    "    param['use_best_model'] = True\n",
    "    param[\"colsample_bylevel\"] =  trial.suggest_float(\"colsample_bylevel\", 0.01, 0.1)\n",
    "    param['random_state'] = 0\n",
    "    param['scale_pos_weight'] = trial.suggest_int('scale_pos_weight', 4, 30)\n",
    "    param['bootstrap_type'] = trial.suggest_categorical(\"bootstrap_type\", [\"Bayesian\", \"Bernoulli\", \"MVS\"])\n",
    "    param['logging_level'] = 'Silent'\n",
    "    param['verbosity'] = 0\n",
    "\n",
    "\n",
    "\n",
    "    fold=StratifiedKFold(n_splits=5)#15#5#10\n",
    "    i=1\n",
    "    for train_index, test_index in fold.split(X,y):\n",
    "        \n",
    "        X_train, X_test = X.iloc[train_index], X.iloc[test_index]\n",
    "        y_train, y_test = y.iloc[train_index], y.iloc[test_index]\n",
    "#       model = CatBoostClassifier(**param)\n",
    "        model = XGBClassifier(**param)\n",
    "    \n",
    "\n",
    "        model.fit(X_train,y_train,eval_set=[(X_train,y_train),(X_test, y_test)], early_stopping_rounds=200, verbose = False)#erly100\n",
    "        preds=model.predict(X_test)\n",
    "\n",
    "        oof_f1.append(f1_score(y_test,preds))\n",
    "\n",
    "    return np.mean(oof_f1)"
   ]
  },
  {
   "cell_type": "code",
   "execution_count": 74,
   "metadata": {
    "execution": {
     "iopub.status.busy": "2021-11-16T14:17:40.737374Z",
     "iopub.status.idle": "2021-11-16T14:17:40.737980Z",
     "shell.execute_reply": "2021-11-16T14:17:40.737792Z",
     "shell.execute_reply.started": "2021-11-16T14:17:40.737769Z"
    }
   },
   "outputs": [],
   "source": [
    "#study = optuna.create_study(direction=\"maximize\")\n",
    "#study.optimize(objective, n_trials=50)"
   ]
  },
  {
   "cell_type": "code",
   "execution_count": 75,
   "metadata": {
    "execution": {
     "iopub.status.busy": "2021-11-16T14:17:40.739164Z",
     "iopub.status.idle": "2021-11-16T14:17:40.739785Z",
     "shell.execute_reply": "2021-11-16T14:17:40.739617Z",
     "shell.execute_reply.started": "2021-11-16T14:17:40.739596Z"
    },
    "id": "architectural-phase",
    "outputId": "7e6e8952-55bf-4f80-d597-4144fcf8c857"
   },
   "outputs": [],
   "source": [
    "#obtaining and using the results\n",
    "#print(\"Number of finished trials: {}\".format(len(study.trials)))\n",
    "\n",
    "#print(\"Best trial:\")\n",
    "#trial = study.best_trial\n",
    "\n",
    "#print(\"  Value: {}\".format(trial.value))\n",
    "\n",
    "#print(\"  Params: \")\n",
    "#for key, value in trial.params.items():\n",
    "#    print(\"    {}: {}\".format(key, value))"
   ]
  },
  {
   "cell_type": "code",
   "execution_count": 76,
   "metadata": {
    "execution": {
     "iopub.status.busy": "2021-11-16T14:17:40.740891Z",
     "iopub.status.idle": "2021-11-16T14:17:40.741511Z",
     "shell.execute_reply": "2021-11-16T14:17:40.741343Z",
     "shell.execute_reply.started": "2021-11-16T14:17:40.741320Z"
    },
    "id": "regular-livestock"
   },
   "outputs": [],
   "source": [
    "#X = train_df[features]\n",
    "#X.drop('timeline',axis=1,inplace=True)\n"
   ]
  },
  {
   "cell_type": "markdown",
   "metadata": {},
   "source": [
    "### Model 6 - lgbm_5_fold f1_score 0.5023746674310432"
   ]
  },
  {
   "cell_type": "code",
   "execution_count": 77,
   "metadata": {
    "execution": {
     "iopub.execute_input": "2021-11-16T14:24:36.798119Z",
     "iopub.status.busy": "2021-11-16T14:24:36.797679Z",
     "iopub.status.idle": "2021-11-16T14:24:36.808893Z",
     "shell.execute_reply": "2021-11-16T14:24:36.807707Z",
     "shell.execute_reply.started": "2021-11-16T14:24:36.798087Z"
    },
    "id": "confident-income"
   },
   "outputs": [],
   "source": [
    "#Model 6 - lgbm_5_fold f1_score 0.5023746674310432\n",
    "def objective(trial):\n",
    "    oof_f1=[]\n",
    "    oof_predictions=[]\n",
    "\n",
    "\n",
    "    param = {}\n",
    "#     param['objective'] = \"Logloss\"\n",
    "#     param['learning_rate'] = trial.suggest_discrete_uniform(\"learning_rate\", 0.001, 0.1, 0.001)\n",
    "#     param['depth'] = trial.suggest_int('depth', 3, 15)\n",
    "#     param['l2_leaf_reg'] = trial.suggest_discrete_uniform('l2_leaf_reg', 1.0, 5.5, 0.5)\n",
    "#     param['min_child_samples'] = trial.suggest_categorical('min_child_samples', [1, 4, 8, 16, 32])\n",
    "#     param['iterations'] = trial.suggest_discrete_uniform(\"iterations\", 200, 2000, 50)\n",
    "#     param['use_best_model'] = True\n",
    "#     param[\"colsample_bylevel\"] =  trial.suggest_float(\"colsample_bylevel\", 0.01, 0.1)\n",
    "#     param['random_state'] = 0\n",
    "    \n",
    "#     param['bootstrap_type'] = trial.suggest_categorical(\"bootstrap_type\", [\"Bayesian\", \"Bernoulli\", \"MVS\"])\n",
    "#     param['logging_level'] = 'Silent'\n",
    "    \n",
    "    param[\"learning_rate\"] = trial.suggest_float(\"learning_rate\", 1e-2, 0.25, log=True)\n",
    "#     param['reg_lambda'] = trial.suggest_loguniform(\"reg_lambda\", 1e-8, 100.0)\n",
    "#     param['reg_alpha'] = trial.suggest_loguniform(\"reg_alpha\", 1e-8, 100.0)\n",
    "    param['subsample'] = trial.suggest_float(\"subsample\", 0.1, 1.0)\n",
    "    param['colsample_bytree'] = trial.suggest_float(\"colsample_bytree\", 0.1, 1.0)\n",
    "    param['max_depth'] = trial.suggest_int(\"max_depth\", 5, 20)\n",
    "    param['scale_pos_weight'] = trial.suggest_int('scale_pos_weight', 1, 10)\n",
    "#    param[\"device\"] = \"gpu\"\n",
    "\n",
    "\n",
    "\n",
    "\n",
    "    fold=StratifiedKFold(n_splits=5)#15#5#10\n",
    "    i=1\n",
    "    for train_index, test_index in fold.split(X,y):\n",
    "        \n",
    "        X_train, X_test = X.iloc[train_index], X.iloc[test_index]\n",
    "        y_train, y_test = y.iloc[train_index], y.iloc[test_index]\n",
    "\n",
    "        model = LGBMClassifier(**param ,n_estimators=10000)\n",
    "\n",
    "    \n",
    "        model.fit(X_train,y_train,eval_set=[(X_train,y_train),(X_test, y_test)], early_stopping_rounds=300, verbose = False)#erly100\n",
    "        preds=model.predict(X_test)\n",
    "        oof_f1.append(f1_score(y_test,preds))\n",
    "\n",
    "    \n",
    "\n",
    "    return np.mean(oof_f1)"
   ]
  },
  {
   "cell_type": "code",
   "execution_count": 81,
   "metadata": {
    "execution": {
     "iopub.status.busy": "2021-11-16T14:17:40.744543Z",
     "iopub.status.idle": "2021-11-16T14:17:40.745145Z",
     "shell.execute_reply": "2021-11-16T14:17:40.744967Z",
     "shell.execute_reply.started": "2021-11-16T14:17:40.744943Z"
    },
    "id": "rapid-antenna",
    "outputId": "0300bb25-1a9f-46de-f53b-be46e214f349",
    "scrolled": true
   },
   "outputs": [
    {
     "name": "stderr",
     "output_type": "stream",
     "text": [
      "\u001b[32m[I 2021-11-16 15:45:51,456]\u001b[0m A new study created in memory with name: no-name-e16f863d-e2ce-449f-9c36-6a710381e610\u001b[0m\n",
      "\u001b[32m[I 2021-11-16 15:45:59,145]\u001b[0m Trial 0 finished with value: 0.0 and parameters: {'learning_rate': 0.04454099998219, 'subsample': 0.3045113121181331, 'colsample_bytree': 0.4421937313723887, 'max_depth': 14, 'scale_pos_weight': 10}. Best is trial 0 with value: 0.0.\u001b[0m\n",
      "\u001b[32m[I 2021-11-16 15:46:06,006]\u001b[0m Trial 1 finished with value: 0.0 and parameters: {'learning_rate': 0.0376585614070027, 'subsample': 0.9575138315960798, 'colsample_bytree': 0.9248242837877171, 'max_depth': 5, 'scale_pos_weight': 10}. Best is trial 0 with value: 0.0.\u001b[0m\n",
      "\u001b[32m[I 2021-11-16 15:46:30,777]\u001b[0m Trial 2 finished with value: 0.5091350858245136 and parameters: {'learning_rate': 0.06968282147651161, 'subsample': 0.3348604195895232, 'colsample_bytree': 0.9873698293390533, 'max_depth': 17, 'scale_pos_weight': 4}. Best is trial 2 with value: 0.5091350858245136.\u001b[0m\n",
      "\u001b[32m[I 2021-11-16 15:46:46,738]\u001b[0m Trial 3 finished with value: 0.5207002104559336 and parameters: {'learning_rate': 0.06918507311267345, 'subsample': 0.4595801484580895, 'colsample_bytree': 0.5940513082967886, 'max_depth': 6, 'scale_pos_weight': 2}. Best is trial 3 with value: 0.5207002104559336.\u001b[0m\n",
      "\u001b[32m[I 2021-11-16 15:47:11,341]\u001b[0m Trial 4 finished with value: 0.5193921349024965 and parameters: {'learning_rate': 0.02414118557146409, 'subsample': 0.3350403369482239, 'colsample_bytree': 0.6676334734074928, 'max_depth': 8, 'scale_pos_weight': 2}. Best is trial 3 with value: 0.5207002104559336.\u001b[0m\n"
     ]
    }
   ],
   "source": [
    "#please increase the no of tials ,5 used here for illustrative purposes\n",
    "study = optuna.create_study(direction=\"maximize\")\n",
    "study.optimize(objective, n_trials=5)"
   ]
  },
  {
   "cell_type": "code",
   "execution_count": 82,
   "metadata": {
    "execution": {
     "iopub.status.busy": "2021-11-16T14:17:40.746329Z",
     "iopub.status.idle": "2021-11-16T14:17:40.746925Z",
     "shell.execute_reply": "2021-11-16T14:17:40.746746Z",
     "shell.execute_reply.started": "2021-11-16T14:17:40.746724Z"
    },
    "id": "generic-great",
    "outputId": "585ee5c5-c56e-4b16-aef8-e3f1ac0c5b08"
   },
   "outputs": [
    {
     "name": "stdout",
     "output_type": "stream",
     "text": [
      "Number of finished trials: 5\n",
      "Best trial:\n",
      "  Value: 0.5207002104559336\n",
      "  Params: \n",
      "    learning_rate: 0.06918507311267345\n",
      "    subsample: 0.4595801484580895\n",
      "    colsample_bytree: 0.5940513082967886\n",
      "    max_depth: 6\n",
      "    scale_pos_weight: 2\n"
     ]
    }
   ],
   "source": [
    "print(\"Number of finished trials: {}\".format(len(study.trials)))\n",
    "\n",
    "print(\"Best trial:\")\n",
    "trial = study.best_trial\n",
    "\n",
    "print(\"  Value: {}\".format(trial.value))\n",
    "\n",
    "print(\"  Params: \")\n",
    "for key, value in trial.params.items():\n",
    "    print(\"    {}: {}\".format(key, value))"
   ]
  },
  {
   "cell_type": "code",
   "execution_count": 83,
   "metadata": {
    "execution": {
     "iopub.status.busy": "2021-11-16T14:17:40.748094Z",
     "iopub.status.idle": "2021-11-16T14:17:40.748680Z",
     "shell.execute_reply": "2021-11-16T14:17:40.748507Z",
     "shell.execute_reply.started": "2021-11-16T14:17:40.748485Z"
    },
    "id": "paperback-executive",
    "outputId": "3f7c6681-f616-4bfe-893a-f9b31fabc413"
   },
   "outputs": [
    {
     "data": {
      "text/plain": [
       "{'learning_rate': 0.06918507311267345,\n",
       " 'subsample': 0.4595801484580895,\n",
       " 'colsample_bytree': 0.5940513082967886,\n",
       " 'max_depth': 6,\n",
       " 'scale_pos_weight': 2}"
      ]
     },
     "execution_count": 83,
     "metadata": {},
     "output_type": "execute_result"
    }
   ],
   "source": [
    "trial.params"
   ]
  },
  {
   "cell_type": "code",
   "execution_count": 84,
   "metadata": {
    "execution": {
     "iopub.status.busy": "2021-11-16T14:17:40.749763Z",
     "iopub.status.idle": "2021-11-16T14:17:40.750389Z",
     "shell.execute_reply": "2021-11-16T14:17:40.750183Z",
     "shell.execute_reply.started": "2021-11-16T14:17:40.750161Z"
    }
   },
   "outputs": [
    {
     "data": {
      "text/plain": [
       "(4288, 66)"
      ]
     },
     "execution_count": 84,
     "metadata": {},
     "output_type": "execute_result"
    }
   ],
   "source": [
    "X_test.shape"
   ]
  },
  {
   "cell_type": "code",
   "execution_count": null,
   "metadata": {
    "execution": {
     "iopub.status.busy": "2021-11-16T14:17:40.751477Z",
     "iopub.status.idle": "2021-11-16T14:17:40.752081Z",
     "shell.execute_reply": "2021-11-16T14:17:40.751916Z",
     "shell.execute_reply.started": "2021-11-16T14:17:40.751887Z"
    }
   },
   "outputs": [],
   "source": [
    "#results from previous training based on similar problem \n",
    "# Trial 3100 finished with value: 0.9395282013444826 and parameters: {'learning_rate': 0.042, 'depth': 3,\n",
    "#                                                                   'l2_leaf_reg': 1.5, 'min_child_samples': 8, \n",
    "#                                                                   'iterations': 1400.0, 'colsample_bylevel': 0.03307446978765261,\n",
    "#                                                                   'scale_pos_weight': 4, 'bootstrap_type': 'MVS'}. Best is trial 31 with value: 0.9795282013444826."
   ]
  },
  {
   "cell_type": "code",
   "execution_count": 85,
   "metadata": {
    "execution": {
     "iopub.execute_input": "2021-11-16T14:27:29.516094Z",
     "iopub.status.busy": "2021-11-16T14:27:29.515739Z",
     "iopub.status.idle": "2021-11-16T14:27:29.521900Z",
     "shell.execute_reply": "2021-11-16T14:27:29.520914Z",
     "shell.execute_reply.started": "2021-11-16T14:27:29.516058Z"
    }
   },
   "outputs": [],
   "source": [
    "param = {'learning_rate': 0.042,\n",
    "         'min_child_samples': 8,\n",
    "         'scale_pos_weight': 4,}"
   ]
  },
  {
   "cell_type": "markdown",
   "metadata": {},
   "source": [
    "### Model 6 - lgbm_5_fold_tuned f1_score 0.768713749702667"
   ]
  },
  {
   "cell_type": "code",
   "execution_count": 86,
   "metadata": {
    "execution": {
     "iopub.execute_input": "2021-11-16T14:27:42.085865Z",
     "iopub.status.busy": "2021-11-16T14:27:42.085294Z",
     "iopub.status.idle": "2021-11-16T14:28:46.051836Z",
     "shell.execute_reply": "2021-11-16T14:28:46.050928Z",
     "shell.execute_reply.started": "2021-11-16T14:27:42.085828Z"
    },
    "id": "alert-spiritual",
    "outputId": "4f0c71d4-d80b-43e8-ed62-4074a1d81b82"
   },
   "outputs": [
    {
     "name": "stdout",
     "output_type": "stream",
     "text": [
      "f1_score:  0.6512770137524557\n",
      "f1_score:  0.6475814412635734\n",
      "f1_score:  0.8052681091251176\n",
      "f1_score:  0.868237347294939\n",
      "f1_score:  0.8828748890860693\n",
      "0.771047760104431\n"
     ]
    }
   ],
   "source": [
    "oof_f1=[]\n",
    "lgb_oof_predictions=[]\n",
    "\n",
    "\n",
    "#param = trial.params\n",
    "\n",
    "\n",
    "\n",
    "fold=StratifiedKFold(n_splits=5)#15#5#10\n",
    "i=1\n",
    "\n",
    "for train_index, test_index in fold.split(X_,y_):\n",
    "        \n",
    "    X_train, X_test = X_.iloc[train_index], X_.iloc[test_index]\n",
    "    y_train, y_test = y_.iloc[train_index], y_.iloc[test_index]\n",
    "    \n",
    "    model = LGBMClassifier(**param ,n_estimators=10000)\n",
    "\n",
    "    model.fit(X_train,y_train,eval_set=[(X_train,y_train),(X_test, y_test)], early_stopping_rounds=500, verbose = False)#erly100\n",
    "    preds=model.predict(X_test)\n",
    "    print(\"f1_score: \",f1_score(y_test,preds))\n",
    "    oof_f1.append(f1_score(y_test,preds))\n",
    "    p2 = model.predict_proba(test_df[X_.columns])[:, 1]\n",
    "    lgb_oof_predictions.append(p2)\n",
    "    \n",
    "print(np.mean(oof_f1))"
   ]
  },
  {
   "cell_type": "code",
   "execution_count": 87,
   "metadata": {
    "id": "bridal-buyer"
   },
   "outputs": [],
   "source": [
    "pred_lgb = pd.DataFrame(lgb_oof_predictions).T"
   ]
  },
  {
   "cell_type": "code",
   "execution_count": 88,
   "metadata": {
    "id": "prescribed-buying",
    "outputId": "12524669-4ca7-452b-869a-bc17a36b15fc"
   },
   "outputs": [
    {
     "data": {
      "text/html": [
       "<div>\n",
       "<style scoped>\n",
       "    .dataframe tbody tr th:only-of-type {\n",
       "        vertical-align: middle;\n",
       "    }\n",
       "\n",
       "    .dataframe tbody tr th {\n",
       "        vertical-align: top;\n",
       "    }\n",
       "\n",
       "    .dataframe thead th {\n",
       "        text-align: right;\n",
       "    }\n",
       "</style>\n",
       "<table border=\"1\" class=\"dataframe\">\n",
       "  <thead>\n",
       "    <tr style=\"text-align: right;\">\n",
       "      <th></th>\n",
       "      <th>0</th>\n",
       "      <th>1</th>\n",
       "      <th>2</th>\n",
       "      <th>3</th>\n",
       "      <th>4</th>\n",
       "    </tr>\n",
       "  </thead>\n",
       "  <tbody>\n",
       "    <tr>\n",
       "      <th>0</th>\n",
       "      <td>0.000105</td>\n",
       "      <td>0.000204</td>\n",
       "      <td>0.000005</td>\n",
       "      <td>5.572495e-07</td>\n",
       "      <td>2.458459e-07</td>\n",
       "    </tr>\n",
       "    <tr>\n",
       "      <th>1</th>\n",
       "      <td>0.000193</td>\n",
       "      <td>0.000427</td>\n",
       "      <td>0.000027</td>\n",
       "      <td>8.456977e-07</td>\n",
       "      <td>2.461035e-06</td>\n",
       "    </tr>\n",
       "    <tr>\n",
       "      <th>2</th>\n",
       "      <td>0.000274</td>\n",
       "      <td>0.000289</td>\n",
       "      <td>0.000085</td>\n",
       "      <td>1.048033e-05</td>\n",
       "      <td>7.416712e-07</td>\n",
       "    </tr>\n",
       "    <tr>\n",
       "      <th>3</th>\n",
       "      <td>0.000497</td>\n",
       "      <td>0.000296</td>\n",
       "      <td>0.000042</td>\n",
       "      <td>3.518571e-06</td>\n",
       "      <td>1.448299e-05</td>\n",
       "    </tr>\n",
       "    <tr>\n",
       "      <th>4</th>\n",
       "      <td>0.000333</td>\n",
       "      <td>0.000345</td>\n",
       "      <td>0.000020</td>\n",
       "      <td>1.687224e-04</td>\n",
       "      <td>2.741794e-06</td>\n",
       "    </tr>\n",
       "  </tbody>\n",
       "</table>\n",
       "</div>"
      ],
      "text/plain": [
       "          0         1         2             3             4\n",
       "0  0.000105  0.000204  0.000005  5.572495e-07  2.458459e-07\n",
       "1  0.000193  0.000427  0.000027  8.456977e-07  2.461035e-06\n",
       "2  0.000274  0.000289  0.000085  1.048033e-05  7.416712e-07\n",
       "3  0.000497  0.000296  0.000042  3.518571e-06  1.448299e-05\n",
       "4  0.000333  0.000345  0.000020  1.687224e-04  2.741794e-06"
      ]
     },
     "execution_count": 88,
     "metadata": {},
     "output_type": "execute_result"
    }
   ],
   "source": [
    "pred_lgb.head()"
   ]
  },
  {
   "cell_type": "markdown",
   "metadata": {},
   "source": [
    "# 7. Prediction"
   ]
  },
  {
   "cell_type": "code",
   "execution_count": 98,
   "metadata": {},
   "outputs": [],
   "source": [
    "#need to drop timeline in the testdatset here\n",
    "test_df[features]\n",
    "test_df[features].drop('timeline',axis=1,inplace=True)\n",
    "preds=model.predict_proba(test_df[features])[:, 1]\n"
   ]
  },
  {
   "cell_type": "markdown",
   "metadata": {
    "id": "minimal-trace"
   },
   "source": [
    "# 8. Submission"
   ]
  },
  {
   "cell_type": "code",
   "execution_count": 99,
   "metadata": {},
   "outputs": [],
   "source": [
    "#Create submission file using an empty/dummy dataframe\n",
    "sub_file = pd.DataFrame(columns=['msisdn','probability', 'result'])\n",
    "sub_file.head()\n",
    "#Save test ID in a copy for creating submission file later\n",
    "test_dataset = pd.read_csv('Test.csv')\n",
    "sub_file.msisdn= test_dataset.msisdn\n",
    "sub_file.head()\n",
    "#Save prediction to submission file created earlier\n",
    "sub_file.probability = preds\n",
    "#sub_file.head()\n"
   ]
  },
  {
   "cell_type": "code",
   "execution_count": 103,
   "metadata": {},
   "outputs": [
    {
     "name": "stdout",
     "output_type": "stream",
     "text": [
      "0    5103\n",
      "1     896\n",
      "Name: result, dtype: int64\n"
     ]
    }
   ],
   "source": [
    "#converting results to conform to prediction requirements\n",
    "sub_file['result'] = np.where(sub_file['probability']>=0.5, 1, 0)\n",
    "\n",
    "#number of  clicks(0) vs installs(1)\n",
    "\n",
    "print(sub_file['result'].value_counts())\n",
    "\n",
    "#submission\n",
    "sub_file.to_csv('SampleSubmission.csv',index = False,float_format='%.2f')"
   ]
  },
  {
   "cell_type": "markdown",
   "metadata": {},
   "source": [
    "#                                                                      tl;dr(too long didn't run)\n",
    "* # The best performing model of the 6 trained was LGBMClassifier with f1_score = 0.76 on the validation set.\n",
    "# Limitations\n",
    "* # Not enough domain knowledge about the telecoms industry pricing to adequately remove outliers from other numeric fields apart from \"age\" field.\n",
    "* # Working with 100%(65000) of the train dataset yielded mauvaise performance for the Boosting algorithms used thus about 19,000 unique and fairly engineered points were used.\n",
    "* # gpu limitations with training model, 500 iterations took about 4 hours with CPU;(device parameters for LGBM GPU-support don't speed up training times).\n",
    "# Further work would involve:\n",
    "* # using \"spent_actual\" i.e summation of all the telecoms' service categories as a feature in addition to other polynomial features.\n",
    "* # obtaining more unique samples from the train dataset and combining performance improvements from each unique training in a \"pipeline\".\n",
    "* # exploring the performance of \"Anomaly Detection Classifiers\" on 100% of the train dataset.\n"
   ]
  }
 ],
 "metadata": {
  "kernelspec": {
   "display_name": "Python 3",
   "language": "python",
   "name": "python3"
  },
  "language_info": {
   "codemirror_mode": {
    "name": "ipython",
    "version": 3
   },
   "file_extension": ".py",
   "mimetype": "text/x-python",
   "name": "python",
   "nbconvert_exporter": "python",
   "pygments_lexer": "ipython3",
   "version": "3.8.8"
  }
 },
 "nbformat": 4,
 "nbformat_minor": 4
}
